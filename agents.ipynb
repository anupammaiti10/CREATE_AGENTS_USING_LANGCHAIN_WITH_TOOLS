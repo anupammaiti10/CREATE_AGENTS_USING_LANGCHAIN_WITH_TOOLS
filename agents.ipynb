{
 "cells": [
  {
   "cell_type": "markdown",
   "id": "e1a4c239",
   "metadata": {},
   "source": [
    "Create a Agents using the Langchain"
   ]
  },
  {
   "cell_type": "code",
   "execution_count": 1,
   "id": "371e6056",
   "metadata": {},
   "outputs": [],
   "source": [
    "# Setup the environmental variables for the Tavily API key\n",
    "import os\n",
    "from dotenv import load_dotenv\n",
    "load_dotenv()\n",
    "os.environ[\"TAVILY_API_KEY\"]=os.getenv(\"TAVILY_API_KEY\")"
   ]
  },
  {
   "cell_type": "code",
   "execution_count": null,
   "id": "0a612262",
   "metadata": {},
   "outputs": [],
   "source": [
    "# Retrives TavilySearch from langchain community\n",
    "# First tool of the agents that is the Tavily Search tool            \n",
    "from langchain_community.tools.tavily_search import TavilySearchResults\n",
    "tavily_tool=TavilySearchResults(\n",
    "    max_results=2,\n",
    "    include_answer=True,\n",
    "    include_raw_content=True,\n",
    "    include_images=True,\n",
    "    search_depth=\"advanced\",\n",
    ")"
   ]
  },
  {
   "cell_type": "code",
   "execution_count": 3,
   "id": "1d3cd113",
   "metadata": {},
   "outputs": [
    {
     "data": {
      "text/plain": [
       "[{'title': \"French Open winners: Men's and women's singles champions - ESPN\",\n",
       "  'url': 'https://www.espn.com/tennis/story/_/id/40269330/french-open-winners-mens-womens-singles-champions',\n",
       "  'content': \"## ESPN\\n\\n# French Open winners: Men's and women's singles champions\\n\\nCopy Link\\n\\nRafael Nadal dominated the French Open since winning his first title at Roland Garros in 2005. Of the Spaniard's 22 career Grand Slam championships,14 came on the French Open's clay courts. His French Open haul eclipses any other player in tennis history.\\n\\nCarlos Alcaraz won the 2024 French Open, after besting Alexander Zverev in the final.\",\n",
       "  'score': 0.7724109,\n",
       "  'raw_content': \"## [ESPN](/)\\n\\n![](https://a3.espncdn.com/combiner/i?img=%2Fredesign%2Fassets%2Fimg%2Ficons%2FESPN%2Dicon%2Dtennis.png&w=80&h=80&scale=crop&cquality=40&location=origin)\\n\\n# French Open winners: Men's and women's singles champions\\n\\n![]()\\n![Copy Link](https://a.espncdn.com/combiner/i?img=/i/content-reactions/check.png&h=80&w=80)\\n\\n[Rafael Nadal](https://www.espn.com/tennis/player/_/id/261/rafael-nadal) dominated the [French Open](https://www.espn.com/tennis/bracket/_/year/2024/tournamentId/172/type/1) since winning his [first title](/tennis/story/_/id/40218628/2005-rafael-nadal-won-first-french-open) at Roland Garros in 2005. Of the Spaniard's 22 career Grand Slam championships,14 came on the French Open's clay courts. His French Open haul eclipses any other player in tennis history.\\n\\n[Carlos Alcaraz](https://www.espn.com/tennis/player/_/id/3782/carlos-alcaraz) won the 2024 French Open, after besting [Alexander Zverev](https://www.espn.com/tennis/player/_/id/2375/alexander-zverev) in the final.\\n\\nOn the women's side, [Chris Evert](https://www.espn.com/sportscentury/features/00014187.html) is the queen of the clay. Her seven career [French Open titles](/tennis/story/_/id/40208890/chris-evert-thinks-iga-swiatek-surpass-french-open-record) are the most by any woman.\\n\\n[Iga Swiatek](https://www.espn.com/tennis/player/_/id/3730/iga-swiatek) won her [third consecutive French Open title](/tennis/story/_/id/40304683/iga-swiatek-tops-jasmine-paolini-4th-french-open-title) in the 2024 tournament, drawing her closer to Evert's record.\\n\\nNew winners will rise to the top as the [2025 French Open](/tennis/story/_/id/45225813/french-open-2025-daily-schedule-how-watch-prize-money) runs May 19th through June 8th.\\n\\nLet's check out men's and women's singles champions throughout French Open history.\\n\\n*ALL-TIME FRENCH OPEN MEN'S SINGLES CHAMPIONS*\\n\\n**2024**: Carlos Alcaraz\\n\\n**2023**: Novak Djokovic\\n\\n**2022**: Rafael Nadal\\n\\n**2021**: Novak Djokovic\\n\\n**2020**: Rafael Nadal\\n\\n**2019**: Rafael Nadal\\n\\n**2018**: Rafael Nadal\\n\\n**2017**: Rafael Nadal\\n\\n**2016**: Novak Djokovic\\n\\n**2015**: Stan Wawrinka\\n\\n**2014**: Rafael Nadal\\n\\n**2013**: Rafael Nadal\\n\\n**2012**: Rafael Nadal\\n\\n**2011**: Rafael Nadal\\n\\n**2010**: Rafael Nadal\\n\\n**2009**: Roger Federer\\n\\n**2008**: Rafael Nadal\\n\\n**2007**: Rafael Nadal\\n\\n**2006**: Rafael Nadal\\n\\n**2005**: Rafael Nadal\\n\\n**2004**: Gaston Gaudio\\n\\n**2003**: Juan Carlos Ferrero\\n\\n**2002**: Albert Costa\\n\\n**2001**: Gustavo Kuerten\\n\\n**2000**: Gustavo Kuerten\\n\\n**1999**: Andre Agassi\\n\\n**1998**: Carlos Moya\\n\\n**1997**: Gustavo Kuerten\\n\\n**1996**: Yevgeny Kafelnikov\\n\\n**1995**: Thomas Muster\\n\\n**1994**: Sergi Bruguera\\n\\n**1993**: Sergi Bruguera\\n\\n**1992**: Jim Courier\\n\\n**1991**: Jim Courier\\n\\n**1990**: Andres Gomez\\n\\n**1989**: Michael Chang\\n\\n**1988**: Mats Wilander\\n\\n**1987**: Ivan Lendl\\n\\n**1986**: Ivan Lendl\\n\\n**1985**: Mats Wilander\\n\\n**1984**: Ivan Lendl\\n\\n**1983**: Yannick Noah\\n\\n**1982**: Mats Wilander\\n\\n**1981**: Bjorn Borg\\n\\n**1980**: Bjorn Borg\\n\\n**1979**: Bjorn Borg\\n\\n**1978**: Bjorn Borg\\n\\n**1977**: Guillermo Vilas\\n\\n**1976**: Adriano Panatta\\n\\n**1975**: Bjorn Borg\\n\\n**1974**: Bjorn Borg\\n\\n**1973**: Ilie Nastase\\n\\n**1972**: Andres Gimeno\\n\\n**1971**: Jan Kodes\\n\\n**1970**: Jan Kodes\\n\\n**1969**: Rod Laver\\n\\n**1968**: Ken Rosewall\\n\\n**1967**: Roy Emerson\\n\\n**1966**: Tony Roche\\n\\n**1965**: Fred Stolle\\n\\n**1964**: Manolo Santana\\n\\n**1963**: Roy Emerson\\n\\n**1962**: Rod Laver\\n\\n**1961**: Manolo Santana\\n\\n**1960**: Nicola Pietrangeli\\n\\n**1959**: Nicola Pietrangeli\\n\\n**1958**: Mervyn Rose\\n\\n**1957**: Sven Davidson\\n\\n**1956**: Lew Hoad\\n\\n**1955**: Tony Trabert\\n\\n**1954**: Tony Trabert\\n\\n**1953**: Ken Rosewall\\n\\n**1952**: Jaroslav Drobny\\n\\n**1951**: Jaroslav Drobny\\n\\n**1950**: Budge Patty\\n\\n**1949**: Frank Parker\\n\\n**1948**: Frank Parker\\n\\n**1947**: Jozsef Asboth\\n\\n**1946**: Marcel Bernard\\n\\n**1945**: Canceled due to World War II\\n\\n**1944**: Canceled due to World War II\\n\\n**1943**: Canceled due to World War II\\n\\n**1942**: Canceled due to World War II\\n\\n**1941**: Canceled due to World War II\\n\\n**1940**: Canceled due to World War II\\n\\n**1939**: Don McNeill\\n\\n**1938**: Donald Budge\\n\\n**1937**: Henner Henkel\\n\\n**1936**: Gottfried Von\\n\\n**1935**: Fred Perry\\n\\n**1934**: Gottfried Von\\n\\n**1933**: Jack Crawford\\n\\n**1932**: Henri Cochet\\n\\n**1931**: Jean Borotra\\n\\n**1930**: Henri Cochet\\n\\n**1929**: René Lacoste\\n\\n**1928**: Henri Cochet\\n\\n**1927**: René Lacoste\\n\\n**1926**: Henri Cochet\\n\\n**1925**: René Lacoste\\n\\n**1924**: Jean Borotra\\n\\n**1923**: François Blanchy\\n\\n**1922**: Henri Cochet\\n\\n**1921**: Jean-Pierre Samazeuilh\\n\\n**1920**: André Gobert\\n\\n**1919**: Canceled due to World War I\\n\\n**1918**: Canceled due to World War I\\n\\n**1917**: Canceled due to World War I\\n\\n**1916**: Canceled due to World War I\\n\\n**1915**: Canceled due to World War I\\n\\n**1914**: Max Decugis\\n\\n**1913**: Max Decugis\\n\\n**1912**: Max Decugis\\n\\n**1911**: André Gobert\\n\\n**1910**: Maurice Germot\\n\\n**1909**: Max Decugis\\n\\n**1908**: Max Decugis\\n\\n**1907**: Max Decugis\\n\\n**1906**: Maurice Germot\\n\\n**1905**: Maurice Germot\\n\\n**1904**: Max Decugis\\n\\n**1903**: Max Decugis\\n\\n**1902**: Marcel Vacherot\\n\\n**1901**: André Vacherot\\n\\n**1900**: Paul Aymé\\n\\n**1899**: Paul Aymé\\n\\n**1898**: Paul Aymé\\n\\n**1897**: Paul Aymé\\n\\n**1896**: André Vacherot\\n\\n**1895**: André Vacherot\\n\\n**1894**: André Vacherot\\n\\n**1893**: Laurent Riboulet\\n\\n**1892**: Claude Anet\\n\\n**1891**: H. Briggs\\n\\n*ALL-TIME FRENCH OPEN WOMEN'S SINGLES CHAMPIONS*\\n\\n**2024**: Iga Swiatek\\n\\n**2023**: Iga Swiatek\\n\\n**2022**: Iga Swiatek\\n\\n**2021**: Barbara Krejcikova\\n\\n**2020**: Iga Swiatek\\n\\n**2019**: Ashleigh Barty\\n\\n**2018**: Simona Halep\\n\\n**2017**: Jelena Ostapenko\\n\\n**2016**: Garbine Muguruza\\n\\n**2015**: Serena Williams\\n\\n**2014**: Maria Sharapova\\n\\n**2013**: Serena Williams\\n\\n**2012**: Maria Sharapova\\n\\n**2011**: Li Na\\n\\n**2010**: Francesca Schiavone\\n\\n**2009**: Svetlana Kuznetsova\\n\\n**2008**: Ana Ivanovic\\n\\n**2007**: Justine Henin\\n\\n**2006**: Justine Henin\\n\\n**2005**: Justine Henin\\n\\n**2004**: Anastasia Myskina\\n\\n**2003**: Justine Henin\\n\\n**2002**: Serena Williams\\n\\n**2001**: Jennifer Capriati\\n\\n**2000**: Mary Pierce\\n\\n**1999**: Steffi Graf\\n\\n**1998**: Arantxa Sanchez Vicario\\n\\n**1997**: Iva Majoli\\n\\n**1996**: Steffi Graf\\n\\n**1995**: Steffi Graf\\n\\n**1994**: Arantxa Sanchez Vicario\\n\\n**1993**: Steffi Graf\\n\\n**1992**: Monica Seles\\n\\n**1991**: Monica Seles\\n\\n**1990**: Monica Seles\\n\\n**1989**: Arantxa Sanchez\\n\\n**1988**: Steffi Graf\\n\\n**1987**: Steffi Graf\\n\\n**1986**: Chris Evert\\n\\n**1985**: Chris Evert\\n\\n**1984**: Martina Navratilova\\n\\n**1983**: Chris Evert\\n\\n**1982**: Martina Navratilova\\n\\n**1981**: Hana Mandlikova\\n\\n**1980**: Chris Evert\\n\\n**1979**: Chris Evert\\n\\n**1978**: Virginia Ruzici\\n\\n**1977**: Mima Jausovec\\n\\n**1976**: Sue Barker\\n\\n**1975**: Chris Evert\\n\\n**1974**: Chris Evert\\n\\n**1973**: Margaret Court\\n\\n**1972**: Billie Jean\\n\\n**1971**: Evonne Goolagong\\n\\n**1970**: Margaret Smith\\n\\n**1969**: Margaret Smith\\n\\n**1968**: Nancy Richey\\n\\n**1967**: Françoise Dürr\\n\\n**1966**: Ann Haydon-Jones\\n\\n**1965**: Lesley Turner\\n\\n**1964**: Margaret Smith\\n\\n**1963**: Lesley Turner\\n\\n**1962**: Margaret Smith\\n\\n**1961**: Ann Haydon-Jones\\n\\n**1960**: Darlene Hard\\n\\n**1959**: Christine Truman\\n\\n**1958**: Zsuzsa Körmöczy\\n\\n**1957**: Shirley Bloomer\\n\\n**1956**: Althea Gibson\\n\\n**1955**: Angela Mortimer\\n\\n**1954**: Maureen Connolly\\n\\n**1953**: Maureen Connolly\\n\\n**1952**: Doris Hart\\n\\n**1951**: Shirley Fry\\n\\n**1950**: Doris Hart\\n\\n**1949**: Margaret Osborne\\n\\n**1948**: Nelly Adamson\\n\\n**1947**: Patricia Todd\\n\\n**1946**: Margaret Osborne\\n\\n**1945**: Canceled due to World War II\\n\\n**1944**: Canceled due to World War II\\n\\n**1943**: Canceled due to World War II\\n\\n**1942**: Canceled due to World War II\\n\\n**1941**: Canceled due to World War II\\n\\n**1940**: Canceled due to World War II\\n\\n**1939**: Simone Mathieu\\n\\n**1938**: Simone Mathieu\\n\\n**1937**: Hilde Sperling\\n\\n**1936**: Hilde Sperling\\n\\n**1935**: Hilde Sperling\\n\\n**1934**: Margaret Scriven\\n\\n**1933**: Margaret Scriven\\n\\n**1932**: Helen Wills\\n\\n**1931**: Cilly Aussem\\n\\n**1930**: Helen Wills\\n\\n**1929**: Helen Wills\\n\\n**1928**: Helen Wills\\n\\n**1927**: Cornelia Bouman\\n\\n**1926**: Suzanne Lenglen\\n\\n**1925**: Suzanne Lenglen\\n\\n**1924**: Julie Vlasto\\n\\n**1923**: Suzanne Lenglen\\n\\n**1922**: Suzanne Lenglen\\n\\n**1921**: Suzanne Lenglen\\n\\n**1920**: Suzanne Lenglen\\n\\n**1919**: Canceled due to World War I\\n\\n**1918**: Canceled due to World War I\\n\\n**1917**: Canceled due to World War I\\n\\n**1916**: Canceled due to World War I\\n\\n**1915**: Canceled due to World War I\\n\\n**1914**: Marguerite Broquedis\\n\\n**1913**: Marguerite Broquedis\\n\\n**1912**: Jeanne Matthey\\n\\n**1911**: Jeanne Matthey\\n\\n**1910**: Jeanne Matthey\\n\\n**1909**: Jeanne Matthey\\n\\n**1908**: Kate Gillou\\n\\n**1907**: Comtesse de Kermel\\n\\n**1906**: Kate Gillou\\n\\n**1905**: Kate Gillou\\n\\n**1904**: Kate Gillou\\n\\n**1903**: Adine Masson\\n\\n**1902**: Adine Masson\\n\\n**1901**: Suzanne Girod\\n\\n**1900**: Hélène Prévost\\n\\n**1899**: Adine Masson\\n\\n**1898**: Adine Masson\\n\\n**1897**: Adine Masson\\n\\n**How can fans access other tennis content from ESPN?**\\n\\nCheck out the ESPN [tennis hub page](/tennis/) for [breaking news](/tennis/story/_/id/40261505/iga-swiatek-demolishes-anastasia-potapova-40-minutes), [in-depth profiles](/tennis/story/_/id/39386940/alexander-zverev-assault-trial-domestic-abuse-charges-know), [rankings](https://www.espn.com/tennis/rankings), [scores](https://www.espn.com/tennis/scoreboard), [schedules](/tennis/schedule) and more.\"},\n",
       " {'title': \"Winners of the Men's French Open - Topend Sports\",\n",
       "  'url': 'https://www.topendsports.com/events/tennis-grand-slam/french-open/winners-men.htm',\n",
       "  'content': \"Here are all the winners of the French Tennis Open men's title since the first tournament in 1925. The recent tournaments have been dominated by Spanish player Rafael Nadal. He now has 14 French Open men's singles titles (the last in 2022). See also the Women's Singles Results.\",\n",
       "  'score': 0.77199864,\n",
       "  'raw_content': 'Winners of the Men\\'s French Open Tennis Tournament\\n===============\\n\\n[![Image 1: TopendSports: sports, science, health, fitness and nutrition](https://www.topendsports.com/images/header.png)](https://www.topendsports.com/index.htm)![Image 2: mountain](https://www.topendsports.com/images/mountain-top.png)\\n\\n[Home](https://www.topendsports.com/index.htm) \\\\> [Events](https://www.topendsports.com/events/index.htm) \\\\> [Tennis](https://www.topendsports.com/events/tennis/index.htm) \\\\> [Grand Slam](https://www.topendsports.com/events/tennis-grand-slam/index.htm) \\\\> [French Open](https://www.topendsports.com/events/tennis-grand-slam/french-open/index.htm) \\\\> [Winners](https://www.topendsports.com/events/tennis-grand-slam/french-open/winners.htm) \\\\> Men\\n\\n[![Image 3: Topend Sports Logo](https://www.topendsports.com/images/homepage-circle.png)](https://www.topendsports.com/index.htm)\\n\\nWinners of the Men\\'s French Open\\n================================\\n\\nHere are all the winners of the French Tennis Open men\\'s title since the first tournament in 1925. The recent tournaments have been dominated by Spanish player Rafael Nadal. He now has 14 French Open men\\'s singles titles (the last in 2022). See also the [Women\\'s Singles Results](https://www.topendsports.com/events/tennis-grand-slam/french-open/winners-women.htm).\\n\\n* * *\\n\\n* * *\\n\\n| Year | Winner | 2nd | Score |\\n| --- | --- | --- | --- |\\n| 2024 | Carlos Alcaraz (Spain) | Alexander Zverev (Germany) | 6–3, 2–6, 5–7, 6–1, 6–2 |\\n| 2023 | Novak Djokovic (Serbia) | Casper Ruud (Norway) | 7–6(7–1), 6–3, 7–5 |\\n| 2022 | [Rafael Nadal](https://www.topendsports.com/athletes/tennis/nadal-rafael.htm) (Spain) | Casper Ruud (Norway) | 6–3, 6–3, 6–0 |\\n| 2021 | Novak Djokovic (Serbia) | Stefanos Tsitsipas (Greece) | 6–7(6–8), 2–6, 6–3, 6–2, 6–4 |\\n| 2020 | [Rafael Nadal](https://www.topendsports.com/athletes/tennis/nadal-rafael.htm) (Spain) | Novak Djokovic (Serbia) | 6–0, 6–2, 7–5 |\\n| 2019 | [Rafael Nadal](https://www.topendsports.com/athletes/tennis/nadal-rafael.htm) (Spain) | Dominic Thiem (Austria) | 6–3, 5–7, 6–1, 6–1 |\\n| 2018 | [Rafael Nadal](https://www.topendsports.com/athletes/tennis/nadal-rafael.htm) (Spain) | Dominic Thiem (Austria) | 6–4, 6–3, 6–2 |\\n| 2017 | [Rafael Nadal](https://www.topendsports.com/athletes/tennis/nadal-rafael.htm) (Spain) | Stan Wawrinka (Switzerland) | 6–2, 6–3, 6–1 |\\n| 2016 | Novak Djokovic (Serbia) | Andy Murray (UK) | 3–6, 6–1, 6–2, 6–4 |\\n| 2015 | Stan Wawrinka (Switzerland) | Novak Djokovic (Serbia) | 4–6, 6–4, 6–3, 6–4 |\\n| 2014 | [Rafael Nadal](https://www.topendsports.com/athletes/tennis/nadal-rafael.htm) (Spain) | Novak Djokovic (Serbia) | 3–6, 7–5, 6–2, 6–4 |\\n| 2013 | [Rafael Nadal](https://www.topendsports.com/athletes/tennis/nadal-rafael.htm) (Spain) | David Ferrer (Spain) | 6–3, 6–2, 6–3 |\\n| 2012 | [Rafael Nadal](https://www.topendsports.com/athletes/tennis/nadal-rafael.htm) (Spain) | Novak Djokovic (Serbia) | 6-4, 6-3, 2-6, 7-5 |\\n| 2011 | [Rafael Nadal](https://www.topendsports.com/athletes/tennis/nadal-rafael.htm) (Spain) | [Roger Federer](https://www.topendsports.com/athletes/tennis/federer-roger.htm) (Swiz) | 7-5, 7-6, 5-7, 6-1 |\\n| **2010** | [Rafael Nadal](https://www.topendsports.com/athletes/tennis/nadal-rafael.htm) (Spain) | Robin Soderling (Sweden) | 6-4, 6-2, 6-4 |\\n| 2009 | [Roger Federer](https://www.topendsports.com/athletes/tennis/federer-roger.htm) (Swiz) | Robin Soderling (Sweden) | 6-1, 7-6, 6-4 |\\n| 2008 | [Rafael Nadal](https://www.topendsports.com/athletes/tennis/nadal-rafael.htm) (Spain) | [Roger Federer](https://www.topendsports.com/athletes/tennis/federer-roger.htm) (Swiz) | 6-1, 6-3, 6-0 |\\n| 2007 | [Rafael Nadal](https://www.topendsports.com/athletes/tennis/nadal-rafael.htm) (Spain) | [Roger Federer](https://www.topendsports.com/athletes/tennis/federer-roger.htm) (Swiz) | 6-3, 4-6, 6-3, 6-4 |\\n| 2006 | [Rafael Nadal](https://www.topendsports.com/athletes/tennis/nadal-rafael.htm) (Spain) | [Roger Federer](https://www.topendsports.com/athletes/tennis/federer-roger.htm) (Swiz) | 1-6 6-1 6-4 7-6(4) |\\n| 2005 | [Rafael Nadal](https://www.topendsports.com/athletes/tennis/nadal-rafael.htm) (Spain) | Mariano Puerta | 6-7(6) 6-3 6-1 7-5 |\\n| 2004 | Gaston Gaudio | Guillermo Coria | 0-6 3-6 6-4 6-1 8-6 |\\n| 2003 | Juan Carlos Ferrero | Martin Verkerk | 6-1 6-3 6-2 |\\n| 2002 | Albert Costa | Juan Carlos Ferrero | 6-1 6-0 4-6 6-3 |\\n| 2001 | Gustavo Kuerten | A.Corretja | 6-7(3), 7-5, 6-2,6-0 |\\n| **2000** | Gustavo Kuerten | M.Norman | 6-2, 6-3, 2-6, 7-6 (8-6) |\\n| 1999 | Andre Agassi | A. Medvedev | 16 26 64 63 64 |\\n| 1998 | Carlos Moya | A. Corretja | 63 75 63 |\\n| 1997 | Gustavo Kuerten | S. Bruguera | 63 64 62 |\\n| 1996 | Yevgeny Kafelnikov | M. Stich | 76 75 76 |\\n| 1995 | Thomas Muster | M. Chang | 75 62 64 |\\n| 1994 | Sergi Bruguera | A. Berasategui | 63 75 26 61 |\\n| 1993 | Sergi Bruguera | J. Courier | 64 26 62 36 63 |\\n| 1992 | Jim Courier | P. Korda | 75 62 61 |\\n| 1991 | Jim Courier | A. Agassi | 36 64 26 61 64 |\\n| **1990** | Andres Gomez | A. Agassi | 63 26 64 64 |\\n| 1989 | Michael Chang | S. Edberg | 61 36 46 64 62 |\\n| 1988 | Mats Wilander | H. Leconte | 75 62 61 |\\n| 1987 | Ivan Lendl | M. Wilander | 75 62 36 76 |\\n| 1986 | Ivan Lendl | M. Pernfors | 63 62 64 |\\n| 1985 | Mats Wilander | I. Lendl | 36 64 62 62 |\\n| 1984 | Ivan Lendl | J. McEnroe | 36 26 64 75 75 |\\n| 1983 | Yannick Noah | M. Wilander | 62 75 76 |\\n| 1982 | Mats Wilander | G. Vilas | 16 76 60 64 |\\n| 1981 | Bjorn Borg | I. Lendl | 61 46 62 36 61 |\\n| **1980** | Bjorn Borg | V. Gerulaitis | 64 61 62 |\\n| 1979 | Bjorn Borg | V. Pecci | 63 61 67 64 |\\n| 1978 | Bjorn Borg | G. Vilas | 61 61 63 |\\n| 1977 | Guillermo Vilas | B. Gottfried | 60 63 60 |\\n| 1976 | Adriano Panatta | H. Solomon | 61 64 46 76 |\\n| 1975 | Bjorn Borg | G. Vilas | 62 63 64 |\\n| 1974 | Bjorn Borg | M. Orantes | 26 67 60 61 61 |\\n| 1973 | Ilie Nastase | N. Pilic | 63 63 60 |\\n| 1972 | Andres Gimeno | P. Proisy | 46 63 61 61 |\\n| 1971 | Jan Kodes | I. Nastase | 86 62 26 75 |\\n| **1970** | Jan Kodes | Z. Franulovic | 62 64 60 |\\n| 1969 | Rod Laver | K. Rosewall | 64 63 64 |\\n| 1968 | Ken Rosewall | R. Laver | 63 61 26 62 |\\n| 1967 | Roy Emerson | T. Roche | 61 64 26 62 |\\n| 1966 | Tony Roche | I. Gulyas | 61 64 75 |\\n| 1965 | Fred Stolle | T. Roche | 36 60 62 63 |\\n| 1964 | Manuel Santana | N. Pietrangeli | 63 61 46 75 |\\n| 1963 | Roy Emerson | P. Darmon | 36 61 64 64 |\\n| 1962 | Rod Laver | R. Emerson | 36 26 63 97 62 |\\n| 1961 | Manuel Santana | N. Pietrangeli | 46 61 36 60 62 |\\n| **1960** | Nicola Pietrangeli | L. Ayala | 36 63 64 46 63 |\\n| 1959 | Nicola Pietrangeli | I. Vermaak | 36 63 64 61 |\\n| 1958 | Mervyn Rose | L. Ayala | 63 64 64 |\\n| 1957 | Sven Davidson | H. Flam | 63 64 64 |\\n| 1956 | Lew Hoad | S. Davidson | 64 86 63 |\\n| 1955 | Tony Trabert | S. Davidson | 26 61 64 62 |\\n| 1954 | Tony Trabert | A. Larsen | 64 75 61 |\\n| 1953 | Ken Rosewall | V. Seixas | 63 64 16 62 |\\n| 1952 | Jaroslav Drobny | F. Sedgman | 62 60 36 64 |\\n| 1951 | Jaroslav Drobny | E. Sturgess | 63 63 63 |\\n| **1950** | Budge Patty | J. Drobny | 61 62 36 57 75 |\\n| 1949 | Frank Parker | B. Patty | 63 16 61 64 |\\n| 1948 | Frank Parker | J. Drobny | 64 75 57 86 |\\n| 1947 | Joseph Asboth | E. Sturgess | 86 75 64 |\\n| 1946 | Marcel Bernard | J. Drobny | 36 26 61 64 63 |\\n| **1940**\\\\-45 | Not held | due to World War II | \\xa0 |\\n| 1939 | Don McNeill | B. Riggs | 75 60 63 |\\n| 1938 | Don Budge | R. Menzel | 63 62 64 |\\n| 1937 | Henner Henkel | H. Austin | 61 64 63 |\\n| 1936 | Gottfried von Cramm | F. Perry | 60 26 62 26 60 |\\n| 1935 | Fred Perry | G. von Cramm | 63 36 61 63 |\\n| 1934 | Gottfried von Cramm | J. Crawford | 64 79 36 75 63 |\\n| 1933 | Jack Crawford | H. Cochet | 86 61 63 |\\n| 1932 | Henri Cochet | G. de Stefani | 60 64 46 63 |\\n| 1931 | Jean Borotra | C. Boussus | 26 64 75 64 |\\n| **1930** | Henri Cochet | B. Tilden | 36 86 63 61 |\\n| 1929 | Rene Lacoste | J. Borotra | 63 26 60 26 86 |\\n| 1928 | Henri Cochet | R. Lacoste | 57 63 61 63 |\\n| 1927 | Rene Lacoste | B. Tilden | 64 46 57 63 11-9 |\\n| 1926 | Henri Cochet | R. Lacoste | 62 64 63 |\\n| 1925 | Rene Lacoste | J. Borotra | 75 61 64 |\\n\\n* * *\\n\\n* * *\\n\\nRelated Pages\\n-------------\\n\\n*   See also the [Women\\'s Singles Results](https://www.topendsports.com/events/tennis-grand-slam/french-open/winners-women.htm)\\n\\nYou May Also Like ...\\n---------------------\\n\\n*   **Random Page:** [2025 Sports Events Calendar](https://www.topendsports.com/events/calendar-2025.htm)\\n*   **Random List:** [FA Cup Winners List](https://www.topendsports.com/events/soccer/fa-cup/winners.htm)\\n*   **Featured Page:** [Timeline of Significant Events in Ballon d\\'Or History](https://www.topendsports.com/sport/soccer/awards/ballondor-timeline.htm)\\n*   **Featured Poll:** [What\\'s your favorite way to stay active?](https://www.topendsports.com/resources/polls/fitness/ways-to-stay-active.htm)\\n*   **Trending Page:** [Super Bowl Winners List](https://www.topendsports.com/events/super-bowl/winners-list.htm)\\n*   **Random Fact:** Messi is the only player in history to win the Ballon d\\'Or with three different teams. See [All Ballon d\\'Or Winners](https://www.topendsports.com/sport/soccer/list-player-of-the-year-ballondor.htm)\\n\\n[![Image 4: send us a comment](https://www.topendsports.com/images/letter-icon.png)](https://www.topendsports.com/comment.htm) _Any comments, suggestions, or corrections? [Please let us know](https://www.topendsports.com/comment.htm)._\\n\\nSearch This Site\\n----------------\\n\\n<table cellspacing=\"0\" cellpadding=\"0\" role=\"presentation\" class=\"gsc-search-box\"><tbody><tr><td class=\"gsc-input\"><div class=\"gsc-input-box\" id=\"gsc-iw-id1\"><table cellspacing=\"0\" cellpadding=\"0\" role=\"presentation\" id=\"gs_id50\" class=\"gstl_50 gsc-input\" style=\"width: 100%; padding: 0px;\"><tbody><tr><td id=\"gs_tti50\" class=\"gsib_a\"><input autocomplete=\"off\" type=\"text\" size=\"10\" class=\"gsc-input\" name=\"search\" title=\"search\" aria-label=\"search\" id=\"gsc-i-id1\" dir=\"ltr\" spellcheck=\"false\" style=\"width: 100%; padding: 0px; border: none; margin: 0px; height: auto; outline: none;\"></td><td class=\"gsib_b\"><div class=\"gsst_b\" id=\"gs_st50\" dir=\"ltr\"><a class=\"gsst_a\" href=\"javascript:void(0)\" title=\"Clear search box\" role=\"button\" style=\"display: none;\"><span class=\"gscb_a\" id=\"gs_cb50\" aria-hidden=\"true\">×</span></a></div></td></tr></tbody></table></div></td><td class=\"gsc-search-button\"><button class=\"gsc-search-button gsc-search-button-v2\"><svg width=\"13\" height=\"13\" viewBox=\"0 0 13 13\"><title>search</title><path d=\"m4.8495 7.8226c0.82666 0 1.5262-0.29146 2.0985-0.87438 0.57232-0.58292 0.86378-1.2877 0.87438-2.1144 0.010599-0.82666-0.28086-1.5262-0.87438-2.0985-0.59352-0.57232-1.293-0.86378-2.0985-0.87438-0.8055-0.010599-1.5103 0.28086-2.1144 0.87438-0.60414 0.59352-0.8956 1.293-0.87438 2.0985 0.021197 0.8055 0.31266 1.5103 0.87438 2.1144 0.56172 0.60414 1.2665 0.8956 2.1144 0.87438zm4.4695 0.2115 3.681 3.6819-1.259 1.284-3.6817-3.7 0.0019784-0.69479-0.090043-0.098846c-0.87973 0.76087-1.92 1.1413-3.1207 1.1413-1.3553 0-2.5025-0.46363-3.4417-1.3909s-1.4088-2.0686-1.4088-3.4239c0-1.3553 0.4696-2.4966 1.4088-3.4239 0.9392-0.92727 2.0864-1.3969 3.4417-1.4088 1.3553-0.011889 2.4906 0.45771 3.406 1.4088 0.9154 0.95107 1.379 2.0924 1.3909 3.4239 0 1.2126-0.38043 2.2588-1.1413 3.1385l0.098834 0.090049z\" /></svg></button></td><td class=\"gsc-clear-button\"><div class=\"gsc-clear-button\" title=\"clear results\">&#160;</div></td></tr></tbody></table>\\n\\nTennis Extra\\n------------\\n\\n[Tennis](https://www.topendsports.com/sport/tennis/index.htm) is one of the [most popular sports](https://www.topendsports.com/world/lists/popular-sport/index.htm) in the world. Players must focus on [Fitness](https://www.topendsports.com/sport/tennis/fitness.htm), [Nutrition](https://www.topendsports.com/sport/tennis/nutrition.htm) and [Psychology](https://www.topendsports.com/sport/tennis/psychology.htm). Who is [the greatest ever](https://www.topendsports.com/world/lists/greatest-all-time/tennis.htm), the [fittest ever](https://www.topendsports.com/world/lists/fittest-athlete/tennis.htm)? It might be [Federer](https://www.topendsports.com/athletes/tennis/federer-roger.htm), but Nadal and [Williams](https://www.topendsports.com/athletes/tennis/williams-serena.htm) have the most [grand slam](https://www.topendsports.com/events/tennis-grand-slam/index.htm) wins.\\n\\nMajor Events Extra\\n------------------\\n\\nThe largest sporting event in the world is the [Olympic Games](https://www.topendsports.com/events/olympics.htm), but there are many other [multi-sport games](https://www.topendsports.com/events/games/index.htm). In terms of single sport events, nothing beats the [FIFA World Cup](https://www.topendsports.com/events/worldcupsoccer/index.htm). To see what\\'s coming up, check out the [calendar of major sporting events](https://www.topendsports.com/events/calendar.htm).\\n\\nLatest Pages\\n------------\\n\\n*   [Your favorite way to stay active?](https://www.topendsports.com/resources/polls/fitness/ways-to-stay-active.htm)\\n*   [Illegal Sports](https://www.topendsports.com/sport/illegal/index.htm)\\n*   [World Cup Qualifiers](https://www.topendsports.com/events/worldcupsoccer/hosts/2026/teams.htm)\\n*   [AI-Powered Fitness Testing](https://www.topendsports.com/testing/future-ai.htm)\\n\\n![Image 5: golf player putting](https://www.topendsports.com/sport/golf/images/cartoon-putter-ai.jpg)Upcoming Events\\n--------------------------------------------------------------------------------------------------------------------\\n\\n*   [Golf US PGA](https://www.topendsports.com/events/golf-majors/pga/index.htm)\\n*   [FA Cup final](https://www.topendsports.com/events/soccer/fa-cup/index.htm)\\n*   [Stanley Cup finals](https://www.topendsports.com/events/hockey-ice/stanley-cup/index.htm)\\n*   [UEFA Champions League Final](https://www.topendsports.com/sport/soccer/list-league-uefa.htm)\\n*   [2025 Major Events Calendar](https://www.topendsports.com/events/calendar-2025.htm)\\n\\nPopular Pages\\n-------------\\n\\n*   [Ballon d\\'Or Winners](https://www.topendsports.com/sport/soccer/list-player-of-the-year-ballondor.htm)\\n*   [FA Cup Winners](https://www.topendsports.com/events/soccer/fa-cup/winners.htm)\\n*   [Super Bowl Winners](https://www.topendsports.com/events/super-bowl/winners-list.htm)\\n*   [World Cup Winners](https://www.topendsports.com/events/worldcupsoccer/winners.htm)\\n\\nLatest Sports Added\\n-------------------\\n\\n*   [Squash Fives](https://www.topendsports.com/sport/list/fives-squash.htm)\\n*   [Carjitsu](https://www.topendsports.com/sport/unusual/carjitsu.htm)\\n*   [Døds Diving](https://www.topendsports.com/sport/list/diving-death.htm)\\n*   [Totem Tennis (Swingball)](https://www.topendsports.com/sport/list/totem-tennis.htm)\\n\\n**CITE THIS PAGE:** Robert Wood, \"Winners of the Men\\'s French Open Tennis Tournament.\" Topend Sports Website, first published May 2010, https://www.topendsports.com/events/tennis-grand-slam/french-open/winners-men.htm, Accessed 9 May 2025 \\xa0→ [How to Cite](https://www.topendsports.com/citations.htm)\\n\\n**PAGES**\\n\\n[home](https://www.topendsports.com/index.htm)  \\n[search](https://www.topendsports.com/search.htm)  \\n[sitemap](https://www.topendsports.com/sitemap.htm)  \\n[store](https://www.topendsports.com/resources/storefront.htm)\\n\\n**SOCIAL** **MEDIA**\\n\\n[newsletter](https://www.topendsports.com/newsletter/index.htm)  \\n[facebook](https://www.facebook.com/topendsports)  \\n[Instagram](https://www.instagram.com/topendsports/)  \\n[X (twitter)](https://twitter.com/topendsports)\\n\\n**SECURITY**\\n\\n[privacy policy](https://www.topendsports.com/privacy.htm)  \\n[disclaimer](https://www.topendsports.com/disclaimer.htm)  \\n[copyright](https://www.topendsports.com/copyright.htm)\\n\\n**ABOUT**\\n\\n[contact](https://www.topendsports.com/comment.htm)  \\n[author info](https://www.topendsports.com/aboutrob.htm)  \\n[advertising](https://www.topendsports.com/advertising.htm)\\n\\n[![Image 6: Topend Sports Logo](https://www.topendsports.com/images/footer-logo.png)](https://www.topendsports.com/index.htm)©1997-2025 Topend Sports  \\n Page last modified: 7 May 2025\\n\\n<table cellspacing=\"0\" cellpadding=\"0\" role=\"presentation\" class=\"gstl_50 gssb_c\" style=\"width: 432px; display: none; top: 4179px; left: 192px; position: absolute;\"><tbody><tr><td class=\"gssb_f\"></td><td class=\"gssb_e\" style=\"width: 100%;\"></td></tr></tbody></table>\\n\\n![Image 7](https://ad-delivery.net/px.gif?ch=2)![Image 8](https://ad.doubleclick.net/favicon.ico?ad=300x250&ad_box_=1&adnet=1&showad=1&size=250x250)![Image 9](https://ad-delivery.net/px.gif?ch=1&e=0.2974405044165457)\\n'}]"
      ]
     },
     "execution_count": 3,
     "metadata": {},
     "output_type": "execute_result"
    }
   ],
   "source": [
    "tavily_tool.invoke({'query': 'who won the last french open'})"
   ]
  },
  {
   "cell_type": "code",
   "execution_count": 5,
   "id": "74af488c",
   "metadata": {},
   "outputs": [
    {
     "data": {
      "text/plain": [
       "\"Page: List of French Open men's singles champions\\nSummary: The French Open, also known as Roland-Garros, is an annual tennis tournament held over two weeks in May and June. Established in 1891 and pla\""
      ]
     },
     "execution_count": 5,
     "metadata": {},
     "output_type": "execute_result"
    }
   ],
   "source": [
    "#Second tool for agents that is the Wikipedia\n",
    "from langchain_community.tools import WikipediaQueryRun\n",
    "from langchain_community.utilities import WikipediaAPIWrapper\n",
    "api_wrapper_wiki=WikipediaAPIWrapper(top_k_results=2,doc_content_chars_max=200)\n",
    "wikipedia=WikipediaQueryRun(api_wrapper=api_wrapper_wiki)\n",
    "wikipedia.invoke({'query': 'who won the last french open'})"
   ]
  },
  {
   "cell_type": "code",
   "execution_count": 6,
   "id": "af25e42f",
   "metadata": {},
   "outputs": [
    {
     "data": {
      "text/plain": [
       "'wikipedia'"
      ]
     },
     "execution_count": 6,
     "metadata": {},
     "output_type": "execute_result"
    }
   ],
   "source": [
    "wikipedia.name"
   ]
  },
  {
   "cell_type": "code",
   "execution_count": 7,
   "id": "7b9a6a73",
   "metadata": {},
   "outputs": [
    {
     "name": "stderr",
     "output_type": "stream",
     "text": [
      "USER_AGENT environment variable not set, consider setting it to identify your requests.\n"
     ]
    },
    {
     "name": "stderr",
     "output_type": "stream",
     "text": [
      "C:\\Users\\Anupam Maiti\\AppData\\Local\\Temp\\ipykernel_1760\\1042342959.py:9: LangChainDeprecationWarning: The class `OllamaEmbeddings` was deprecated in LangChain 0.3.1 and will be removed in 1.0.0. An updated version of the class exists in the :class:`~langchain-ollama package and should be used instead. To use it run `pip install -U :class:`~langchain-ollama` and import as `from :class:`~langchain_ollama import OllamaEmbeddings``.\n",
      "  vectordb=FAISS.from_documents(documents,OllamaEmbeddings(model=\"deepseek-r1:1.5b\"))\n"
     ]
    },
    {
     "data": {
      "text/plain": [
       "VectorStoreRetriever(tags=['FAISS', 'OllamaEmbeddings'], vectorstore=<langchain_community.vectorstores.faiss.FAISS object at 0x000001DB381D4E10>, search_kwargs={})"
      ]
     },
     "execution_count": 7,
     "metadata": {},
     "output_type": "execute_result"
    }
   ],
   "source": [
    "# Third tool for Agents LangchainSmith website\n",
    "from langchain_community.document_loaders import WebBaseLoader\n",
    "from langchain_community.vectorstores import FAISS\n",
    "from langchain.text_splitter import  RecursiveCharacterTextSplitter\n",
    "from langchain_community.embeddings import OllamaEmbeddings\n",
    "loader=WebBaseLoader(web_path=\"https://docs.smith.langchain.com/\")\n",
    "docs=loader.load()\n",
    "documents=RecursiveCharacterTextSplitter(chunk_size=1000,chunk_overlap=200).split_documents(docs)\n",
    "vectordb=FAISS.from_documents(documents,OllamaEmbeddings(model=\"deepseek-r1:1.5b\"))\n",
    "retriever=vectordb.as_retriever()\n",
    "retriever"
   ]
  },
  {
   "cell_type": "code",
   "execution_count": 8,
   "id": "92fe8300",
   "metadata": {},
   "outputs": [],
   "source": [
    "# Now that we have populated our index that we will do doing retrieval over, we can easily turn it into a tool (the format needed for an agent to properly use it)\n",
    "from langchain.tools.retriever import create_retriever_tool\n",
    "retriver_tool=create_retriever_tool(\n",
    "    retriever,\n",
    "    \"LangSmith_Search\", \n",
    "    \"Search for information about LangSmith. For any questions about LangSmith, you must use this tool!\"\n",
    ")"
   ]
  },
  {
   "cell_type": "code",
   "execution_count": 9,
   "id": "752fe022",
   "metadata": {},
   "outputs": [
    {
     "data": {
      "text/plain": [
       "'LangSmith_Search'"
      ]
     },
     "execution_count": 9,
     "metadata": {},
     "output_type": "execute_result"
    }
   ],
   "source": [
    "retriver_tool.name"
   ]
  },
  {
   "cell_type": "code",
   "execution_count": 10,
   "id": "d25df90d",
   "metadata": {},
   "outputs": [],
   "source": [
    "# Now that we have created both, we can create a list of tools that we will use downstream.\n",
    "tools=[tavily_tool,wikipedia,retriver_tool]"
   ]
  },
  {
   "cell_type": "code",
   "execution_count": 11,
   "id": "d75baf67",
   "metadata": {},
   "outputs": [
    {
     "data": {
      "text/plain": [
       "[TavilySearchResults(max_results=2, include_answer=True, include_raw_content=True, include_images=True, api_wrapper=TavilySearchAPIWrapper(tavily_api_key=SecretStr('**********'))),\n",
       " WikipediaQueryRun(api_wrapper=WikipediaAPIWrapper(wiki_client=<module 'wikipedia' from 'c:\\\\Users\\\\Anupam Maiti\\\\OneDrive\\\\Desktop\\\\Python\\\\.venv\\\\Lib\\\\site-packages\\\\wikipedia\\\\__init__.py'>, top_k_results=2, lang='en', load_all_available_meta=False, doc_content_chars_max=200)),\n",
       " Tool(name='LangSmith_Search', description='Search for information about LangSmith. For any questions about LangSmith, you must use this tool!', args_schema=<class 'langchain_core.tools.retriever.RetrieverInput'>, func=functools.partial(<function _get_relevant_documents at 0x000001DB506232E0>, retriever=VectorStoreRetriever(tags=['FAISS', 'OllamaEmbeddings'], vectorstore=<langchain_community.vectorstores.faiss.FAISS object at 0x000001DB381D4E10>, search_kwargs={}), document_prompt=PromptTemplate(input_variables=['page_content'], input_types={}, partial_variables={}, template='{page_content}'), document_separator='\\n\\n', response_format='content'), coroutine=functools.partial(<function _aget_relevant_documents at 0x000001DB385A20C0>, retriever=VectorStoreRetriever(tags=['FAISS', 'OllamaEmbeddings'], vectorstore=<langchain_community.vectorstores.faiss.FAISS object at 0x000001DB381D4E10>, search_kwargs={}), document_prompt=PromptTemplate(input_variables=['page_content'], input_types={}, partial_variables={}, template='{page_content}'), document_separator='\\n\\n', response_format='content'))]"
      ]
     },
     "execution_count": 11,
     "metadata": {},
     "output_type": "execute_result"
    }
   ],
   "source": [
    "tools"
   ]
  },
  {
   "cell_type": "code",
   "execution_count": 23,
   "id": "58044701",
   "metadata": {},
   "outputs": [],
   "source": [
    "# from  langchain_ollama import OllamaLLM\n",
    "# from langchain_community.chat_models import ChatOllama\n",
    "# from langchain_community.llms import Ollama\n",
    "# model=Ollama(model=\"deepseek-r1:1.5b\",temperature=1)\n",
    "load_dotenv()\n",
    "os.environ[\"OPENAI_API_KEY\"]=os.getenv(\"OPENAI_API_KEY\")\n",
    "from langchain_openai import ChatOpenAI\n",
    "model=ChatOpenAI(model=\"openai/o4-mini\",base_url=\"https://openrouter.ai/api/v1\", temperature=0.1, max_tokens=1500)"
   ]
  },
  {
   "cell_type": "code",
   "execution_count": 24,
   "id": "5912e57e",
   "metadata": {},
   "outputs": [],
   "source": [
    "# We can first choose the prompt we want to use to guide the agent.\n",
    "\n",
    "from langchain import hub\n",
    "# Get the prompt to use - you can modify this!\n",
    "prompt = hub.pull(\"hwchase17/openai-functions-agent\")\n",
    "prompt.messages\n",
    "\n",
    "from langchain_core.prompts import ChatPromptTemplate\n",
    "prompts=ChatPromptTemplate.from_messages(\n",
    "   [ (\"system\", \"You are a helpful assistant. Use tools when needed. You habe to be given query based on the query you have to be search most relevent information from the tools you have been given. You can use the tools Tavily Search, Wikipedia and LangSmith Search to answer the questions asked by the user. If you are not sure about the answer, you can use the tools to search for information.\"),\n",
    "    (\"user\", \"{input}\"),\n",
    "    (\"assistant\", \"{agent_scratchpad}\"),\n",
    "    ]\n",
    ")"
   ]
  },
  {
   "cell_type": "code",
   "execution_count": 52,
   "id": "bb126217",
   "metadata": {},
   "outputs": [],
   "source": [
    "# If your model supports it, bind tools before creating agent\n",
    "# model_with_tools = model.bind_tools(tools)"
   ]
  },
  {
   "cell_type": "code",
   "execution_count": null,
   "id": "f8b59fd5",
   "metadata": {},
   "outputs": [],
   "source": [
    "# from langchain import hub\n",
    "# # # Get the prompt to use - you can modify this!\n",
    "# # prompt = hub.pull(\"hwchase17/openai-functions-agent\")\n",
    "# # prompt.messages\n",
    "# # Create a ReAct agent instead of tool-calling agent\n",
    "# from langchain.agents import create_react_agent\n",
    "# prompt = hub.pull(\"hwchase17/react-chat\")  # Special ReAct prompt\n",
    "# agent = create_react_agent(model, tools, prompt)"
   ]
  },
  {
   "cell_type": "code",
   "execution_count": 25,
   "id": "56163d3c",
   "metadata": {},
   "outputs": [
    {
     "name": "stdout",
     "output_type": "stream",
     "text": [
      "['agent_scratchpad', 'input']\n"
     ]
    }
   ],
   "source": [
    "print(prompt.input_variables)  # See what variables it expects"
   ]
  },
  {
   "cell_type": "code",
   "execution_count": 26,
   "id": "8f9eb561",
   "metadata": {},
   "outputs": [],
   "source": [
    "# Now, we can initialize the agent with the LLM, the prompt, and the tools. The agent is responsible for taking in input and deciding what actions to take. Crucially, the Agent does not execute those actions - that is done by the AgentExecutor (next step).\n",
    "from langchain.agents import create_openai_tools_agent\n",
    "agent=create_openai_tools_agent(model,tools,prompt)"
   ]
  },
  {
   "cell_type": "code",
   "execution_count": 27,
   "id": "ea942b8e",
   "metadata": {},
   "outputs": [
    {
     "data": {
      "text/plain": [
       "AgentExecutor(verbose=True, agent=RunnableMultiActionAgent(runnable=RunnableAssign(mapper={\n",
       "  agent_scratchpad: RunnableLambda(lambda x: format_to_openai_tool_messages(x['intermediate_steps']))\n",
       "})\n",
       "| ChatPromptTemplate(input_variables=['agent_scratchpad', 'input'], optional_variables=['chat_history'], input_types={'chat_history': list[typing.Annotated[typing.Union[typing.Annotated[langchain_core.messages.ai.AIMessage, Tag(tag='ai')], typing.Annotated[langchain_core.messages.human.HumanMessage, Tag(tag='human')], typing.Annotated[langchain_core.messages.chat.ChatMessage, Tag(tag='chat')], typing.Annotated[langchain_core.messages.system.SystemMessage, Tag(tag='system')], typing.Annotated[langchain_core.messages.function.FunctionMessage, Tag(tag='function')], typing.Annotated[langchain_core.messages.tool.ToolMessage, Tag(tag='tool')], typing.Annotated[langchain_core.messages.ai.AIMessageChunk, Tag(tag='AIMessageChunk')], typing.Annotated[langchain_core.messages.human.HumanMessageChunk, Tag(tag='HumanMessageChunk')], typing.Annotated[langchain_core.messages.chat.ChatMessageChunk, Tag(tag='ChatMessageChunk')], typing.Annotated[langchain_core.messages.system.SystemMessageChunk, Tag(tag='SystemMessageChunk')], typing.Annotated[langchain_core.messages.function.FunctionMessageChunk, Tag(tag='FunctionMessageChunk')], typing.Annotated[langchain_core.messages.tool.ToolMessageChunk, Tag(tag='ToolMessageChunk')]], FieldInfo(annotation=NoneType, required=True, discriminator=Discriminator(discriminator=<function _get_type at 0x000001DB307DF420>, custom_error_type=None, custom_error_message=None, custom_error_context=None))]], 'agent_scratchpad': list[typing.Annotated[typing.Union[typing.Annotated[langchain_core.messages.ai.AIMessage, Tag(tag='ai')], typing.Annotated[langchain_core.messages.human.HumanMessage, Tag(tag='human')], typing.Annotated[langchain_core.messages.chat.ChatMessage, Tag(tag='chat')], typing.Annotated[langchain_core.messages.system.SystemMessage, Tag(tag='system')], typing.Annotated[langchain_core.messages.function.FunctionMessage, Tag(tag='function')], typing.Annotated[langchain_core.messages.tool.ToolMessage, Tag(tag='tool')], typing.Annotated[langchain_core.messages.ai.AIMessageChunk, Tag(tag='AIMessageChunk')], typing.Annotated[langchain_core.messages.human.HumanMessageChunk, Tag(tag='HumanMessageChunk')], typing.Annotated[langchain_core.messages.chat.ChatMessageChunk, Tag(tag='ChatMessageChunk')], typing.Annotated[langchain_core.messages.system.SystemMessageChunk, Tag(tag='SystemMessageChunk')], typing.Annotated[langchain_core.messages.function.FunctionMessageChunk, Tag(tag='FunctionMessageChunk')], typing.Annotated[langchain_core.messages.tool.ToolMessageChunk, Tag(tag='ToolMessageChunk')]], FieldInfo(annotation=NoneType, required=True, discriminator=Discriminator(discriminator=<function _get_type at 0x000001DB307DF420>, custom_error_type=None, custom_error_message=None, custom_error_context=None))]]}, partial_variables={'chat_history': []}, metadata={'lc_hub_owner': 'hwchase17', 'lc_hub_repo': 'openai-functions-agent', 'lc_hub_commit_hash': 'a1655024b06afbd95d17449f21316291e0726f13dcfaf990cc0d18087ad689a5'}, messages=[SystemMessagePromptTemplate(prompt=PromptTemplate(input_variables=[], input_types={}, partial_variables={}, template='You are a helpful assistant'), additional_kwargs={}), MessagesPlaceholder(variable_name='chat_history', optional=True), HumanMessagePromptTemplate(prompt=PromptTemplate(input_variables=['input'], input_types={}, partial_variables={}, template='{input}'), additional_kwargs={}), MessagesPlaceholder(variable_name='agent_scratchpad')])\n",
       "| RunnableBinding(bound=ChatOpenAI(client=<openai.resources.chat.completions.completions.Completions object at 0x000001DB50E85E10>, async_client=<openai.resources.chat.completions.completions.AsyncCompletions object at 0x000001DB5541BB10>, root_client=<openai.OpenAI object at 0x000001DB527F1AD0>, root_async_client=<openai.AsyncOpenAI object at 0x000001DB50E86F50>, model_name='openai/o4-mini', temperature=0.1, model_kwargs={}, openai_api_key=SecretStr('**********'), openai_api_base='https://openrouter.ai/api/v1', max_tokens=1500), kwargs={'tools': [{'type': 'function', 'function': {'name': 'tavily_search_results_json', 'description': 'A search engine optimized for comprehensive, accurate, and trusted results. Useful for when you need to answer questions about current events. Input should be a search query.', 'parameters': {'properties': {'query': {'description': 'search query to look up', 'type': 'string'}}, 'required': ['query'], 'type': 'object'}}}, {'type': 'function', 'function': {'name': 'wikipedia', 'description': 'A wrapper around Wikipedia. Useful for when you need to answer general questions about people, places, companies, facts, historical events, or other subjects. Input should be a search query.', 'parameters': {'properties': {'query': {'description': 'query to look up on wikipedia', 'type': 'string'}}, 'required': ['query'], 'type': 'object'}}}, {'type': 'function', 'function': {'name': 'LangSmith_Search', 'description': 'Search for information about LangSmith. For any questions about LangSmith, you must use this tool!', 'parameters': {'properties': {'query': {'description': 'query to look up in retriever', 'type': 'string'}}, 'required': ['query'], 'type': 'object'}}}]}, config={}, config_factories=[])\n",
       "| OpenAIToolsAgentOutputParser(), input_keys_arg=[], return_keys_arg=[], stream_runnable=True), tools=[TavilySearchResults(max_results=2, include_answer=True, include_raw_content=True, include_images=True, api_wrapper=TavilySearchAPIWrapper(tavily_api_key=SecretStr('**********'))), WikipediaQueryRun(api_wrapper=WikipediaAPIWrapper(wiki_client=<module 'wikipedia' from 'c:\\\\Users\\\\Anupam Maiti\\\\OneDrive\\\\Desktop\\\\Python\\\\.venv\\\\Lib\\\\site-packages\\\\wikipedia\\\\__init__.py'>, top_k_results=2, lang='en', load_all_available_meta=False, doc_content_chars_max=200)), Tool(name='LangSmith_Search', description='Search for information about LangSmith. For any questions about LangSmith, you must use this tool!', args_schema=<class 'langchain_core.tools.retriever.RetrieverInput'>, func=functools.partial(<function _get_relevant_documents at 0x000001DB506232E0>, retriever=VectorStoreRetriever(tags=['FAISS', 'OllamaEmbeddings'], vectorstore=<langchain_community.vectorstores.faiss.FAISS object at 0x000001DB381D4E10>, search_kwargs={}), document_prompt=PromptTemplate(input_variables=['page_content'], input_types={}, partial_variables={}, template='{page_content}'), document_separator='\\n\\n', response_format='content'), coroutine=functools.partial(<function _aget_relevant_documents at 0x000001DB385A20C0>, retriever=VectorStoreRetriever(tags=['FAISS', 'OllamaEmbeddings'], vectorstore=<langchain_community.vectorstores.faiss.FAISS object at 0x000001DB381D4E10>, search_kwargs={}), document_prompt=PromptTemplate(input_variables=['page_content'], input_types={}, partial_variables={}, template='{page_content}'), document_separator='\\n\\n', response_format='content'))])"
      ]
     },
     "execution_count": 27,
     "metadata": {},
     "output_type": "execute_result"
    }
   ],
   "source": [
    "# Finally, we combine the agent (the brains) with the tools inside the AgentExecutor (which will repeatedly call the agent and execute tools).\n",
    "from langchain.agents import AgentExecutor\n",
    "agent_executor= AgentExecutor(agent=agent,tools=tools,verbose=True)\n",
    "agent_executor"
   ]
  },
  {
   "cell_type": "code",
   "execution_count": 30,
   "id": "816d9aa7",
   "metadata": {},
   "outputs": [
    {
     "name": "stdout",
     "output_type": "stream",
     "text": [
      "\n",
      "\n",
      "\u001b[1m> Entering new AgentExecutor chain...\u001b[0m\n",
      "\u001b[32;1m\u001b[1;3mHello! How can I help you today?\u001b[0m\n",
      "\n",
      "\u001b[1m> Finished chain.\u001b[0m\n"
     ]
    },
    {
     "data": {
      "text/plain": [
       "{'input': 'hi!', 'output': 'Hello! How can I help you today?'}"
      ]
     },
     "execution_count": 30,
     "metadata": {},
     "output_type": "execute_result"
    }
   ],
   "source": [
    "# We can now run the agent on a few queries! Note that for now, these are all stateless queries (it won't remember previous interactions).\n",
    "agent_executor.invoke({\"input\": \"hi!\"} )"
   ]
  },
  {
   "cell_type": "code",
   "execution_count": 32,
   "id": "4657d553",
   "metadata": {},
   "outputs": [
    {
     "name": "stdout",
     "output_type": "stream",
     "text": [
      "\n",
      "\n",
      "\u001b[1m> Entering new AgentExecutor chain...\u001b[0m\n",
      "\u001b[32;1m\u001b[1;3m\n",
      "Invoking: `LangSmith_Search` with `{'query': 'LangSmith testing features'}`\n",
      "\n",
      "\n",
      "\u001b[0m\u001b[38;5;200m\u001b[1;3mGet started with LangSmith | 🦜️🛠️ LangSmith\n",
      "\n",
      "LangSmith is a platform for building production-grade LLM applications.\n",
      "It allows you to closely monitor and evaluate your application, so you can ship quickly and with confidence.\n",
      "ObservabilityAnalyze traces in LangSmith and configure metrics, dashboards, alerts based on these.EvalsEvaluate your application over production traffic — score application performance and get human feedback on your data.Prompt EngineeringIterate on prompts, with automatic version control and collaboration features.\n",
      "LangSmith + LangChain OSSLangSmith is framework-agnostic — it can be used with or without LangChain's open source frameworks langchain and langgraph.If you are using either of these, you can enable LangSmith tracing with a single environment variable.\n",
      "For more see the how-to guide for setting up LangSmith with LangChain or setting up LangSmith with LangGraph.\n",
      "Observability​\n",
      "\n",
      "Skip to main contentWe are growing and hiring for multiple roles for LangChain, LangGraph and LangSmith. Join our team!API ReferenceRESTPythonJS/TSSearchRegionUSEUGo to AppGet StartedObservabilityEvaluationPrompt EngineeringDeployment (LangGraph Platform)AdministrationSelf-hostingPricingReferenceCloud architecture and scalabilityAuthz and AuthnAuthentication methodsdata_formatsEvaluationDataset transformationsRegions FAQsdk_referenceChangelogCloud architecture and scalabilityAuthz and AuthnAuthentication methodsdata_formatsEvaluationDataset transformationsRegions FAQsdk_referenceGet StartedOn this pageGet started with LangSmith\n",
      "LangSmith is a platform for building production-grade LLM applications.\n",
      "It allows you to closely monitor and evaluate your application, so you can ship quickly and with confidence.\n",
      "\n",
      "For more see the how-to guide for setting up LangSmith with LangChain or setting up LangSmith with LangGraph.\n",
      "Observability​\n",
      "Observability is important for any software application, but especially so for LLM applications. LLMs are non-deterministic by nature, meaning they can produce unexpected results. This makes them trickier than normal to debug.\n",
      "This is where LangSmith can help! LangSmith has LLM-native observability, allowing you to get meaningful insights from your application. LangSmith’s observability features have you covered throughout all stages of application development - from prototyping, to beta testing, to production.\u001b[0m\u001b[32;1m\u001b[1;3m\n",
      "Invoking: `LangSmith_Search` with `{'query': 'LangSmith Evals'}`\n",
      "\n",
      "\n",
      "\u001b[0m\u001b[38;5;200m\u001b[1;3mGet started with LangSmith | 🦜️🛠️ LangSmith\n",
      "\n",
      "Skip to main contentWe are growing and hiring for multiple roles for LangChain, LangGraph and LangSmith. Join our team!API ReferenceRESTPythonJS/TSSearchRegionUSEUGo to AppGet StartedObservabilityEvaluationPrompt EngineeringDeployment (LangGraph Platform)AdministrationSelf-hostingPricingReferenceCloud architecture and scalabilityAuthz and AuthnAuthentication methodsdata_formatsEvaluationDataset transformationsRegions FAQsdk_referenceChangelogCloud architecture and scalabilityAuthz and AuthnAuthentication methodsdata_formatsEvaluationDataset transformationsRegions FAQsdk_referenceGet StartedOn this pageGet started with LangSmith\n",
      "LangSmith is a platform for building production-grade LLM applications.\n",
      "It allows you to closely monitor and evaluate your application, so you can ship quickly and with confidence.\n",
      "\n",
      "Get started by adding tracing to your application.\n",
      "Create dashboards to view key metrics like RPS, error rates and costs.\n",
      "\n",
      "Evals​\n",
      "The quality and development speed of AI applications depends on high-quality evaluation datasets and metrics to test and optimize your applications on. The LangSmith SDK and UI make building and running high-quality evaluations easy.\n",
      "\n",
      "Get started by creating your first evaluation.\n",
      "Quickly assess the performance of your application using our off-the-shelf evaluators as a starting point.\n",
      "Analyze results of evaluations in the LangSmith UI and compare results over time.\n",
      "Easily collect human feedback on your data to improve your application.\n",
      "\n",
      "Prompt Engineering​\n",
      "While traditional software applications are built by writing code, AI applications involve writing prompts to instruct the LLM on what to do. LangSmith provides a set of tools designed to enable and facilitate prompt engineering to help you find the perfect prompt for your application.\n",
      "\n",
      "For more see the how-to guide for setting up LangSmith with LangChain or setting up LangSmith with LangGraph.\n",
      "Observability​\n",
      "Observability is important for any software application, but especially so for LLM applications. LLMs are non-deterministic by nature, meaning they can produce unexpected results. This makes them trickier than normal to debug.\n",
      "This is where LangSmith can help! LangSmith has LLM-native observability, allowing you to get meaningful insights from your application. LangSmith’s observability features have you covered throughout all stages of application development - from prototyping, to beta testing, to production.\u001b[0m\u001b[32;1m\u001b[1;3mLangSmith provides a full suite of “testing”-focused tools to help you validate, benchmark and continuously monitor your LLM application:\n",
      "\n",
      "1. Evals (Automated & Human‐in-the-Loop)  \n",
      "   • Off-the-shelf evaluators (e.g. QA accuracy, summarization quality) you can drop in and run immediately  \n",
      "   • Custom metrics & evaluators you author against your own data  \n",
      "   • Human-feedback workflows for edge-case or qualitative checks  \n",
      "   • Batch or streaming runs against production traffic  \n",
      "\n",
      "2. Regression & Benchmarking  \n",
      "   • Save evaluation runs and compare scores over time (or across model versions)  \n",
      "   • Pinpoint regressions via historical dashboards  \n",
      "   • Automate Evals as part of your CI/CD pipeline  \n",
      "\n",
      "3. LLM-Native Observability  \n",
      "   • Trace individual prompts & outputs end-to-end (inputs, model calls, tool calls, final result)  \n",
      "   • Instrument metrics (latency, token-usage, error rates) and spin up dashboards  \n",
      "   • Configure alerts on metric thresholds (e.g. sudden cost spike or error surge)  \n",
      "\n",
      "4. Prompt Engineering & Version Control  \n",
      "   • Track prompt changes side-by-side and see how each revision affects your eval metrics  \n",
      "   • Collaborate on prompt templates with built-in versioning and diff views  \n",
      "\n",
      "5. Unified UI & SDK  \n",
      "   • Everything (traces, evals, dashboards, human reviews) in a single web app  \n",
      "   • Python/JS SDKs to script your tests, pull results, and integrate into existing tooling  \n",
      "\n",
      "Getting started is as simple as installing the LangSmith SDK, wrapping your calls to capture traces, and defining an Eval suite against your test data. From there you can run automated tests, review failures in the UI, collect human annotations where needed, and set up alerts so you’re always on top of your application’s quality.\u001b[0m\n",
      "\n",
      "\u001b[1m> Finished chain.\u001b[0m\n"
     ]
    },
    {
     "data": {
      "text/plain": [
       "{'input': 'how can langsmith help with testing?',\n",
       " 'output': 'LangSmith provides a full suite of “testing”-focused tools to help you validate, benchmark and continuously monitor your LLM application:\\n\\n1. Evals (Automated & Human‐in-the-Loop)  \\n   • Off-the-shelf evaluators (e.g. QA accuracy, summarization quality) you can drop in and run immediately  \\n   • Custom metrics & evaluators you author against your own data  \\n   • Human-feedback workflows for edge-case or qualitative checks  \\n   • Batch or streaming runs against production traffic  \\n\\n2. Regression & Benchmarking  \\n   • Save evaluation runs and compare scores over time (or across model versions)  \\n   • Pinpoint regressions via historical dashboards  \\n   • Automate Evals as part of your CI/CD pipeline  \\n\\n3. LLM-Native Observability  \\n   • Trace individual prompts & outputs end-to-end (inputs, model calls, tool calls, final result)  \\n   • Instrument metrics (latency, token-usage, error rates) and spin up dashboards  \\n   • Configure alerts on metric thresholds (e.g. sudden cost spike or error surge)  \\n\\n4. Prompt Engineering & Version Control  \\n   • Track prompt changes side-by-side and see how each revision affects your eval metrics  \\n   • Collaborate on prompt templates with built-in versioning and diff views  \\n\\n5. Unified UI & SDK  \\n   • Everything (traces, evals, dashboards, human reviews) in a single web app  \\n   • Python/JS SDKs to script your tests, pull results, and integrate into existing tooling  \\n\\nGetting started is as simple as installing the LangSmith SDK, wrapping your calls to capture traces, and defining an Eval suite against your test data. From there you can run automated tests, review failures in the UI, collect human annotations where needed, and set up alerts so you’re always on top of your application’s quality.'}"
      ]
     },
     "execution_count": 32,
     "metadata": {},
     "output_type": "execute_result"
    }
   ],
   "source": [
    "agent_executor.invoke({\"input\": \"how can langsmith help with testing?\"})"
   ]
  },
  {
   "cell_type": "code",
   "execution_count": 34,
   "id": "152a1a2e",
   "metadata": {},
   "outputs": [
    {
     "name": "stdout",
     "output_type": "stream",
     "text": [
      "\n",
      "\n",
      "\u001b[1m> Entering new AgentExecutor chain...\u001b[0m\n",
      "\u001b[32;1m\u001b[1;3m\n",
      "Invoking: `tavily_search_results_json` with `{'query': 'latest news in India June 2025'}`\n",
      "\n",
      "\n",
      "\u001b[0m\u001b[36;1m\u001b[1;3m[{'title': 'Current Affairs 02 June 2025 - SSBCrackExams', 'url': 'https://ssbcrackexams.com/current-affairs-02-june-2025/', 'content': \"In Current Affairs for 02 June 2025, we will see the latest national and international current affairs news. These important current affairs will be. ... India's Nandini Gupta exited after making it to the final 20. Six Indian women have won the title, including Reita Faria (1966), Aishwarya Rai (1994), Diana Hayden (1997), Yukta Mookhey\", 'score': 0.83742094}, {'title': 'Current Affairs 1 & 2 June 2025', 'url': 'https://affairscloud.com/current-affairs-1-2-june-2025/', 'content': 'We are here for you to provide the important Recent and Latest Current Affairs 1 & 2 June 2025, which have unique updates of Latest Current Affairs 2025 events from all newspapers such as The Hindu, The Economic Times, PIB, Times of India, PTI, Indian Express, Business Standard and all Government official websites. Our Current Affairs June 2025 events will help you to get more marks in Banking', 'score': 0.82492816}]\u001b[0m\u001b[32;1m\u001b[1;3m\n",
      "Invoking: `tavily_search_results_json` with `{'query': 'India latest news June 3 2025 headlines'}`\n",
      "\n",
      "\n",
      "\u001b[0m\u001b[36;1m\u001b[1;3m[{'title': 'News Archive for June 03, 2025 - The Indian Express', 'url': 'https://indianexpress.com/archive/2025/06/03/', 'content': \"Horoscope Today 3 June, 2025: Scorpio, Capricorn and other sun signs - check astrological predictions. Companies. US probing Adani Group link to Iran LPG trade, says report; firm calls it 'baseless, mischievous' India. Katra-Sangaldan section: PM set to inaugurate final rail stretch to Kashmir on Friday. India\", 'score': 0.8437023}, {'title': 'News of The Day: 3rd June 2025 - pwonlyias.com', 'url': 'https://pwonlyias.com/news-headline/news-of-the-day-3rd-june-2025/', 'content': '\"News of the Day\" offers curated daily updates on current affairs for June 3, 2025, tailored for UPSC aspirants. Compiled by experts, it synthesizes insights from leading newspapers like The Hindu, Indian Express, and Business Standard, ensuring comprehensive and accurate coverage. Stay updated with News of the Day for mastering UPSC current affairs.', 'score': 0.84277284}]\u001b[0m\u001b[32;1m\u001b[1;3m\n",
      "Invoking: `tavily_search_results_json` with `{'query': 'June 3 2025 India news Reuters PM inaugurate Kashmir rail'}`\n",
      "\n",
      "\n",
      "\u001b[0m\u001b[36;1m\u001b[1;3m[{'title': 'PM to inaugurate Chenab Bridge on on June 6; Kashmir rail link to ...', 'url': 'https://www.thestatesman.com/india/pm-to-inaugurate-chenab-bridge-on-on-june-6-kashmir-rail-link-to-become-a-reality-1503440820.html', 'content': 'Published Time: 2025-06-03T07:31:49+00:00\\n\\nPM to inaugurate Chenab Bridge on on June 6; Kashmir rail link to become a reality - The Statesman\\n\\n===============\\n\\n##### All Sections\\n\\n   Home\\n   India\\n   World\\n   Business\\n   Sports\\n   Entertainment\\n   Opinion\\n   Law\\n   Lifestyle\\n   Dainik Statesman\\n    More \\n       Technology\\n       Exclusive Interviews\\n       Features\\n       Photo\\n       Videos\\n       Cities\\n       Travel\\n       Education\\n       Law [...] The century-old dream to provide a rail link to Kashmir with the rest of the country will become a reality on 6 June when the Prime Minister, Narendra Modi, flags off the Katra–Baramulla specially designed Vande Bharat train.The PM will inaugurate the “mighty Chenab Bridge”, the world’s highest railway bridge, before the train’s flagging off ceremony. [...] PM Narendra Modi to inaugurate the Chenab Bridge on 6th June, 2025. A proud symbol of New India’s strength and vision!”\\n\\nAdvertisement\\n\\nAdvertisement\\n\\n   Kashmir\\n   PM Modi\\n   Vande Bharat train\\n\\n   Image 18: Share on Telegram\\n   Image 20: Share on Telegram\\n   Image 22: Share on Telegram\\n   Image 24: Share on Telegram\\n\\n### Related posts\\n\\n\\n\\nUndo\\n\\nSee this amazing trick rigth now!bloghealthnet | [SponsoredSponsored Learn More]( \"Cinnamon: The Greatest Enemy Of Blood Sugar (See How To Use It)\")', 'score': 0.834852, 'raw_content': 'Published Time: 2025-06-03T07:31:49+00:00\\n\\nPM to inaugurate Chenab Bridge on on June 6; Kashmir rail link to become a reality - The Statesman\\n\\n===============\\n\\n##### All Sections\\n\\n*   [Home](https://www.thestatesman.com/)\\n*   [India](https://www.thestatesman.com/india)\\n*   [World](https://www.thestatesman.com/world)\\n*   [Business](https://www.thestatesman.com/business)\\n*   [Sports](https://www.thestatesman.com/sports)\\n*   [Entertainment](https://www.thestatesman.com/entertainment)\\n*   [Opinion](https://www.thestatesman.com/opinion)\\n*   [Law](https://www.thestatesman.com/law)\\n*   [Lifestyle](https://www.thestatesman.com/lifestyle)\\n*   [Dainik Statesman](https://www.dainikstatesmannews.com/)\\n*    More \\n    *   [Technology](https://www.thestatesman.com/technology)\\n    *   [Exclusive Interviews](https://www.thestatesman.com/exclusive-interviews)\\n    *   [Features](https://www.thestatesman.com/features)\\n    *   [Photo](https://www.thestatesman.com/photo)\\n    *   [Videos](https://www.thestatesman.com/videogallery)\\n    *   [Cities](https://www.thestatesman.com/cities)\\n    *   [Travel](https://www.thestatesman.com/travel)\\n    *   [Education](https://www.thestatesman.com/education)\\n    *   [Law](https://www.thestatesman.com/supplements/law)\\n\\n*   Epaper\\n    *   [Bhubaneswar](https://epaper.thestatesman.com/t/31575/?s=%20Bhubaneswar%20-The%20Statesman)\\n    *   [Delhi](https://epaper.thestatesman.com/t/9207/?s=Delhi%20-%20The%20Statesman)\\n    *   [Kolkata](https://epaper.thestatesman.com/t/9247/?s=Kolkata%20-%20The%20Statesman)\\n    *   [Siliguri](https://epaper.thestatesman.com/t/9248/?s=Siliguri%20-%20The%20Statesman)\\n    *   [Dainik Statesman](https://epaper.thestatesman.com/t/9256/?s=Dainik-Statesman)\\n\\n[MENU Menu](https://www.thestatesman.com/india/pm-to-inaugurate-chenab-bridge-on-on-june-6-kashmir-rail-link-to-become-a-reality-1503440820.html#)\\n\\n*   [Home](https://www.thestatesman.com/)\\n*   [India](https://www.thestatesman.com/india)\\n*   [World](https://www.thestatesman.com/world)\\n*   [Business](https://www.thestatesman.com/business)\\n*   [Sports](https://www.thestatesman.com/sports)\\n*   [Entertainment](https://www.thestatesman.com/entertainment)\\n*   [Opinion](https://www.thestatesman.com/opinion)\\n*   [Law](https://www.thestatesman.com/law)\\n*   [Lifestyle](https://www.thestatesman.com/lifestyle)\\n*   [Dainik Statesman](https://www.dainikstatesmannews.com/)\\n*   [More +](https://www.thestatesman.com/india/pm-to-inaugurate-chenab-bridge-on-on-june-6-kashmir-rail-link-to-become-a-reality-1503440820.html#)\\n    *   [Technology](https://www.thestatesman.com/technology)\\n    *   [Exclusive Interviews](https://www.thestatesman.com/exclusive-interviews)\\n    *   [Features](https://www.thestatesman.com/features)\\n    *   [Photo](https://www.thestatesman.com/photo)\\n    *   [Videos](https://www.thestatesman.com/videogallery)\\n    *   [Cities](https://www.thestatesman.com/cities)\\n    *   [Travel](https://www.thestatesman.com/travel)\\n    *   [Education](https://www.thestatesman.com/education)\\n    *   [Law](https://www.thestatesman.com/supplements/law)\\n\\n*   [[Epaper](https://epaper.thestatesman.com/)+](https://www.thestatesman.com/india/pm-to-inaugurate-chenab-bridge-on-on-june-6-kashmir-rail-link-to-become-a-reality-1503440820.html#)\\n    *   [Bhubaneswar](https://epaper.thestatesman.com/t/31575/?s=%20Bhubaneswar%20-The%20Statesman)\\n    *   [Delhi](https://epaper.thestatesman.com/t/9207/?s=Delhi%20-%20The%20Statesman)\\n    *   [Kolkata](https://epaper.thestatesman.com/t/9247/?s=Kolkata%20-%20The%20Statesman)\\n    *   [Siliguri](https://epaper.thestatesman.com/t/9248/?s=Siliguri%20-%20The%20Statesman)\\n    *   [Dainik Statesman](https://epaper.thestatesman.com/t/9256/?s=Dainik-Statesman)\\n\\n*   [](https://www.facebook.com/thestatesman1875/?fref=ts)\\n*   [](https://twitter.com/TheStatesmanLtd)\\n*   [](https://youtube.com/@thestatesmantalk?si=ih1rXBQy1Ifs0lSR)\\n\\n[![Image 2: Logo](https://www.thestatesman.com/wp-content/themes/statesmantheme/images/the-statesman-logo-new.png)](https://www.thestatesman.com/)\\n==================================================================================================================================================\\n\\n[![Image 4: Logo](blob:http://localhost/e36d49e9fc4c09187660bde9c03f3e1c)](https://www.thestatesman.com/)\\n=========================================================================================================\\n\\nTuesday, 3 June, 2025\\n\\n*   [Home](https://www.thestatesman.com/)\\n*   [India](https://www.thestatesman.com/india)\\n*   [World](https://www.thestatesman.com/world)\\n*   [Business](https://www.thestatesman.com/business)\\n*   [Sports](https://www.thestatesman.com/sports)\\n*   [Entertainment](https://www.thestatesman.com/entertainment)\\n*   [Opinion](https://www.thestatesman.com/opinion)\\n*   [Law](https://www.thestatesman.com/law)\\n*   [Lifestyle](https://www.thestatesman.com/lifestyle)\\n*   [Dainik Statesman](https://www.dainikstatesmannews.com/)\\n*    More \\n    *   [Technology](https://www.thestatesman.com/technology)\\n    *   [Exclusive Interviews](https://www.thestatesman.com/exclusive-interviews)\\n    *   [Features](https://www.thestatesman.com/features)\\n    *   [Photo](https://www.thestatesman.com/photo)\\n    *   [Videos](https://www.thestatesman.com/videogallery)\\n    *   [Cities](https://www.thestatesman.com/cities)\\n    *   [Travel](https://www.thestatesman.com/travel)\\n    *   [Education](https://www.thestatesman.com/education)\\n    *   [Law](https://www.thestatesman.com/supplements/law)\\n\\n*   [Epaper](https://epaper.thestatesman.com/)\\n    *   [Bhubaneswar](https://epaper.thestatesman.com/t/31575/?s=%20Bhubaneswar%20-The%20Statesman)\\n    *   [Delhi](https://epaper.thestatesman.com/t/9207/?s=Delhi%20-%20The%20Statesman)\\n    *   [Kolkata](https://epaper.thestatesman.com/t/9247/?s=Kolkata%20-%20The%20Statesman)\\n    *   [Siliguri](https://epaper.thestatesman.com/t/9248/?s=Siliguri%20-%20The%20Statesman)\\n    *   [Dainik Statesman](https://epaper.thestatesman.com/t/9256/?s=Dainik-Statesman)\\n\\n*   [Home](https://www.thestatesman.com/)\\n*   [India](https://www.thestatesman.com/india)\\n*   [World](https://www.thestatesman.com/world)\\n*   [Business](https://www.thestatesman.com/business)\\n*   [Sports](https://www.thestatesman.com/sports)\\n*   [Entertainment](https://www.thestatesman.com/entertainment)\\n*   [Opinion](https://www.thestatesman.com/opinion)\\n*   [Law](https://www.thestatesman.com/law)\\n*   [Lifestyle](https://www.thestatesman.com/lifestyle)\\n*   [Dainik Statesman](https://www.dainikstatesmannews.com/)\\n*    More \\n    *   [Technology](https://www.thestatesman.com/technology)\\n    *   [Exclusive Interviews](https://www.thestatesman.com/exclusive-interviews)\\n    *   [Features](https://www.thestatesman.com/features)\\n    *   [Photo](https://www.thestatesman.com/photo)\\n    *   [Videos](https://www.thestatesman.com/videogallery)\\n    *   [Cities](https://www.thestatesman.com/cities)\\n    *   [Travel](https://www.thestatesman.com/travel)\\n    *   [Education](https://www.thestatesman.com/education)\\n    *   [Law](https://www.thestatesman.com/supplements/law)\\n\\n*   [Epaper](https://epaper.thestatesman.com/)\\n    *   [Bhubaneswar](https://epaper.thestatesman.com/t/31575/?s=%20Bhubaneswar%20-The%20Statesman)\\n    *   [Delhi](https://epaper.thestatesman.com/t/9207/?s=Delhi%20-%20The%20Statesman)\\n    *   [Kolkata](https://epaper.thestatesman.com/t/9247/?s=Kolkata%20-%20The%20Statesman)\\n    *   [Siliguri](https://epaper.thestatesman.com/t/9248/?s=Siliguri%20-%20The%20Statesman)\\n    *   [Dainik Statesman](https://epaper.thestatesman.com/t/9256/?s=Dainik-Statesman)\\n\\n Search \\n\\n[# India](https://www.thestatesman.com/india/pm-to-inaugurate-chenab-bridge-on-on-june-6-kashmir-rail-link-to-become-a-reality-1503440820.html#)\\n\\nPM to inaugurate Chenab Bridge on on June 6; Kashmir rail link to become a reality\\n==================================================================================\\n\\nThe century-old dream to provide a rail link to Kashmir with the rest of the country will become a reality on 6 June when the Prime Minister, Narendra Modi, flags off the Katra–Baramulla specially designed Vande Bharat train.\\n---------------------------------------------------------------------------------------------------------------------------------------------------------------------------------------------------------------------------------\\n\\nSNS | Jammu | June 3, 2025 1:01 pm\\n\\n*   [![Image 6: Share on WhatsApp](https://www.thestatesman.com/wp-content/themes/statesmantheme/images/whatsapp.png)](https://api.whatsapp.com/send?text=PM%20to%20inaugurate%20Chenab%20Bridge%20on%20on%20June%206;%20%20Kashmir%20rail%20link%20to%20become%20a%20reality%20%0A%0A%20https://www.thestatesman.com/india/pm-to-inaugurate-chenab-bridge-on-on-june-6-kashmir-rail-link-to-become-a-reality-1503440820.html \"Share on WhatsApp\")\\n*   [![Image 8: Share on Facebook](https://www.thestatesman.com/wp-content/themes/statesmantheme/images/facebookus.png)](https://www.facebook.com/sharer.php?u=https://www.thestatesman.com/india/pm-to-inaugurate-chenab-bridge-on-on-june-6-kashmir-rail-link-to-become-a-reality-1503440820.html \"Share on Facebook\")\\n*   [![Image 10: Share on Twitter](https://www.thestatesman.com/wp-content/themes/statesmantheme/images/tweet.png)](https://twitter.com/intent/tweet?text=PM%20to%20inaugurate%20Chenab%20Bridge%20on%20on%20June%206;%20%20Kashmir%20rail%20link%20to%20become%20a%20reality&url=https://www.thestatesman.com/india/pm-to-inaugurate-chenab-bridge-on-on-june-6-kashmir-rail-link-to-become-a-reality-1503440820.html \"Share on Twitter\")\\n*   [![Image 12: Share on Telegram](https://www.thestatesman.com/wp-content/themes/statesmantheme/images/telegram.png)](https://telegram.me/share/url?text=PM%20to%20inaugurate%20Chenab%20Bridge%20on%20on%20June%206;%20%20Kashmir%20rail%20link%20to%20become%20a%20reality&url=https://www.thestatesman.com/india/pm-to-inaugurate-chenab-bridge-on-on-june-6-kashmir-rail-link-to-become-a-reality-1503440820.html \"Share on Telegram\")\\n*   [![Image 14: Share on Linkedin](https://www.thestatesman.com/wp-content/themes/statesmantheme/images/linkedin.png)](https://www.linkedin.com/shareArticle?mini=true&title=PM%20to%20inaugurate%20Chenab%20Bridge%20on%20on%20June%206;%20%20Kashmir%20rail%20link%20to%20become%20a%20reality&url=https://www.thestatesman.com/india/pm-to-inaugurate-chenab-bridge-on-on-june-6-kashmir-rail-link-to-become-a-reality-1503440820.html \"Share on Linkedin\")\\n\\n![Image 16: PM to inaugurate Chenab Bridge on on June 6;  Kashmir rail link to become a reality](https://www.thestatesman.com/wp-content/uploads/2025/06/IMG_4583-png.webp)\\n\\nPM Modi (Photo:IANS)\\n\\nThe century-old dream to provide a rail link to Kashmir with the rest of the country will become a reality on 6 June when the Prime Minister, Narendra Modi, flags off the Katra–Baramulla specially designed Vande Bharat train.The PM will inaugurate the “mighty Chenab Bridge”, the world’s highest railway bridge, before the train’s flagging off ceremony.\\n\\nThe flagging off ceremony will be done at Katra, the base town of the Vaishnodevi shrine, by the PM. Thereafter, the Vande Bharat will start running between Katra in the Jammu region and Baramulla in North Kashmir.\\nAdvertisement\\n\\nThe launch of the train service was earlier scheduled for 19 April but was postponed given bad weather conditions predicted for that day. Further delay was caused because of the 22 April Pahalgam terror attack, followed by Operation Sindoor in which the Indian Armed Forces carried out strikes on terror infrastructures and military installations deep inside Pakistan and PoJK from 7 to 10 May.\\n\\nPM Modi will also visit the country’s first cable-stayed bridge at Anju on the railway track in the Reasi district before flagging off the train services from Katra.\\n\\nUnion Minister and Udhampur MP Dr Jitendra Singh said in his post on X, ” History in the making… Just 3 days to go! The mighty Chenab Bridge, the world’s highest railway bridge, stands tall in Jammu and Kashmir. Part of the Udhampur-Srinagar-Baramulla Railway Link (USBRL). Built to withstand nature’s toughest tests.\\n\\n PM Narendra Modi to inaugurate the Chenab Bridge on 6th June, 2025. A proud symbol of New India’s strength and vision!”\\n\\nAdvertisement\\n\\nAdvertisement\\n\\n*   [Kashmir](https://www.thestatesman.com/tag/kashmir)\\n*   [PM Modi](https://www.thestatesman.com/tag/pm-modi)\\n*   [Vande Bharat train](https://www.thestatesman.com/tag/vande-bharat-train)\\n\\n*   [![Image 18: Share on Telegram](blob:http://localhost/147fe305b56e99ab65f4b9987ddd7643)](https://api.whatsapp.com/send?text=PM%20to%20inaugurate%20Chenab%20Bridge%20on%20on%20June%206;%20%20Kashmir%20rail%20link%20to%20become%20a%20reality%20%0A%0A%20https://www.thestatesman.com/india/pm-to-inaugurate-chenab-bridge-on-on-june-6-kashmir-rail-link-to-become-a-reality-1503440820.html \"Share on WhatsApp\")\\n*   [![Image 20: Share on Telegram](blob:http://localhost/147fe305b56e99ab65f4b9987ddd7643)](https://www.facebook.com/sharer.php?u=https://www.thestatesman.com/india/pm-to-inaugurate-chenab-bridge-on-on-june-6-kashmir-rail-link-to-become-a-reality-1503440820.html \"Share on Facebook\")\\n*   [![Image 22: Share on Telegram](blob:http://localhost/147fe305b56e99ab65f4b9987ddd7643)](https://twitter.com/intent/tweet?text=PM%20to%20inaugurate%20Chenab%20Bridge%20on%20on%20June%206;%20%20Kashmir%20rail%20link%20to%20become%20a%20reality&url=https://www.thestatesman.com/india/pm-to-inaugurate-chenab-bridge-on-on-june-6-kashmir-rail-link-to-become-a-reality-1503440820.html \"Share on Twitter\")\\n*   [![Image 24: Share on Telegram](blob:http://localhost/147fe305b56e99ab65f4b9987ddd7643)](https://telegram.me/share/url?text=PM%20to%20inaugurate%20Chenab%20Bridge%20on%20on%20June%206;%20%20Kashmir%20rail%20link%20to%20become%20a%20reality&url=https://www.thestatesman.com/india/pm-to-inaugurate-chenab-bridge-on-on-june-6-kashmir-rail-link-to-become-a-reality-1503440820.html \"Share on Telegram\")\\n\\n### Related posts\\n\\n[](https://www.thestatesman.com/india/assam-reels-under-devastating-floods-pm-modi-assures-central-aid-as-cm-sarma-tours-worst-hit-areas-1503440799.html)\\n\\n[# India](https://www.thestatesman.com/india)\\n\\n#### [Assam reels under devastating floods; PM Modi assures Central aid as CM Sarma tours worst-hit areas](https://www.thestatesman.com/india/assam-reels-under-devastating-floods-pm-modi-assures-central-aid-as-cm-sarma-tours-worst-hit-areas-1503440799.html)\\n\\nAs incessant rainfall continues to lash Assam and its adjoining regions, the flood situation in the state has turned grim, displacing over 5.35 lakh people across 22 districts and raising the death toll to 11.\\n\\n[](https://www.thestatesman.com/world/trip-of-a-lifetime-meeting-pm-modi-was-very-special-us-second-lady-usha-vance-recalls-india-visit-and-her-childrens-experience-1503440749.html)\\n\\n[# World](https://www.thestatesman.com/world)\\n\\n#### [“Trip of a lifetime, meeting PM Modi was very special”: US Second Lady Usha Vance recalls India visit and her children’s experience](https://www.thestatesman.com/world/trip-of-a-lifetime-meeting-pm-modi-was-very-special-us-second-lady-usha-vance-recalls-india-visit-and-her-childrens-experience-1503440749.html)\\n\\nUS Second Lady Usha Vance has recalled her visit to India and her children\\'s experience in India and called the meeting with Prime Minister Narendra Modi \"very special.\"\\n\\n[](https://www.thestatesman.com/india/pm-tells-visiting-paraguay-prez-india-praguay-can-together-expand-pta-with-trading-bloc-mercosur-1503440500.html)\\n\\n[# India](https://www.thestatesman.com/india)\\n\\n#### [PM tells visiting Paraguay Prez India-Praguay can together expand PTA with trading bloc MERCOSUR](https://www.thestatesman.com/india/pm-tells-visiting-paraguay-prez-india-praguay-can-together-expand-pta-with-trading-bloc-mercosur-1503440500.html)\\n\\nPrime Minister Narendra Modi on Monday told the visiting Paraguay President Santiago Pena Palacois that India and Paraguay can work together to further expand the Preferential Trade Agreement with the trading bloc MERCOSUR.\\n\\n###### You might be interested in\\n\\n*   [![Image 26: Assam reels under devastating floods; PM Modi assures Central aid as CM Sarma tours worst-hit areas](blob:http://localhost/e8a57f4972516a1d3218894eabc89576)](https://www.thestatesman.com/india/pm-to-inaugurate-chenab-bridge-on-on-june-6-kashmir-rail-link-to-become-a-reality-1503440820.html) ###### [PM to inaugurate Chenab Bridge on on June 6; Kashmir rail link to become a reality](https://www.thestatesman.com/india/pm-to-inaugurate-chenab-bridge-on-on-june-6-kashmir-rail-link-to-become-a-reality-1503440820.html)  \\n*   [![Image 28: Assam reels under devastating floods; PM Modi assures Central aid as CM Sarma tours worst-hit areas](blob:http://localhost/e8a57f4972516a1d3218894eabc89576)](https://www.thestatesman.com/world/shashi-tharoor-led-delegation-meets-brazils-acting-foreign-minister-discusses-enhancing-anti-terror-cooperation-1503440782.html) ###### [Shashi Tharoor-led delegation meets Brazil’s Acting Foreign Minister, discusses enhancing anti-terror cooperation](https://www.thestatesman.com/world/shashi-tharoor-led-delegation-meets-brazils-acting-foreign-minister-discusses-enhancing-anti-terror-cooperation-1503440782.html)  \\n*   [![Image 30: Assam reels under devastating floods; PM Modi assures Central aid as CM Sarma tours worst-hit areas](blob:http://localhost/e8a57f4972516a1d3218894eabc89576)](https://www.thestatesman.com/india/assam-reels-under-devastating-floods-pm-modi-assures-central-aid-as-cm-sarma-tours-worst-hit-areas-1503440799.html) ###### [Assam reels under devastating floods; PM Modi assures Central aid as CM Sarma tours worst-hit areas](https://www.thestatesman.com/india/assam-reels-under-devastating-floods-pm-modi-assures-central-aid-as-cm-sarma-tours-worst-hit-areas-1503440799.html)  \\n\\n[](https://ranksearchesnow.com/12523)[Nissan Is Back & Better Than Ever With Its Incredible New 2025 Lineup Rank Searches Now | Auto | [Sponsored](https://popup.taboola.com/en/?template=colorbox&utm_source=thestatesman&utm_medium=referral&utm_content=thumbs-feed-01:Below%20Article%20Thumbnails%20|%20Card%201:)[Sponsored](https://popup.taboola.com/en/?template=colorbox&utm_source=thestatesman&utm_medium=referral&utm_content=thumbs-feed-01:Below%20Article%20Thumbnails%20|%20Card%201:) Learn More](https://ranksearchesnow.com/12523 \"Nissan Is Back & Better Than Ever With Its Incredible New 2025 Lineup\")\\n\\nUndo\\n\\n[](https://track.bloghealthnet.com/ztvplkv6d0)[Cinnamon: The Greatest Enemy Of Blood Sugar (See How To Use It)See this amazing trick rigth now!bloghealthnet | [Sponsored](https://popup.taboola.com/en/?template=colorbox&utm_source=thestatesman&utm_medium=referral&utm_content=thumbs-feed-01-a:Below%20Article%20Thumbnails%20|%20Card%202:)[Sponsored](https://popup.taboola.com/en/?template=colorbox&utm_source=thestatesman&utm_medium=referral&utm_content=thumbs-feed-01-a:Below%20Article%20Thumbnails%20|%20Card%202:) Learn More](https://track.bloghealthnet.com/ztvplkv6d0 \"Cinnamon: The Greatest Enemy Of Blood Sugar (See How To Use It)\")\\n\\nUndo\\n\\n[](https://www.universalinfonet.com/en/46514)[Family Thought They Adopted A \"Dog.\" When The Vet Sees It, He Says, \"Oh My God\"universalinfonet.com | [Sponsored](https://popup.taboola.com/en/?template=colorbox&utm_source=thestatesman&utm_medium=referral&utm_content=thumbs-feed-01-a:Below%20Article%20Thumbnails%20|%20Card%202:)[Sponsored](https://popup.taboola.com/en/?template=colorbox&utm_source=thestatesman&utm_medium=referral&utm_content=thumbs-feed-01-a:Below%20Article%20Thumbnails%20|%20Card%202:)](https://www.universalinfonet.com/en/46514 \"Family Thought They Adopted A \\\\\"Dog.\\\\\" When The Vet Sees It, He Says, \\\\\"Oh My God\\\\\"\")\\n\\nUndo\\n\\n[](https://track.consistent-track.com/10e22116-c26b-4384-8718-02f1857c8546)[Americans Are Freaking Out Over This All-New Hyundai Tucson (Take a Look)Smartfinancetips | [Sponsored](https://popup.taboola.com/en/?template=colorbox&utm_source=thestatesman&utm_medium=referral&utm_content=thumbs-feed-01:Below%20Article%20Thumbnails%20|%20Card%203:)[Sponsored](https://popup.taboola.com/en/?template=colorbox&utm_source=thestatesman&utm_medium=referral&utm_content=thumbs-feed-01:Below%20Article%20Thumbnails%20|%20Card%203:) Learn More](https://track.consistent-track.com/10e22116-c26b-4384-8718-02f1857c8546 \"Americans Are Freaking Out Over This All-New Hyundai Tucson (Take a Look)\")\\n\\nUndo\\n\\n[](https://wtr.vitalgethealth.com/ejoogs50ui)[Medical Mystery Solved: Dementia and Memory Loss Has Been Linked To This Common Thing.Here’s What You Need to Know vitalgethealth | [Sponsored](https://popup.taboola.com/en/?template=colorbox&utm_source=thestatesman&utm_medium=referral&utm_content=thumbs-feed-01-a:Below%20Article%20Thumbnails%20|%20Card%204:)[Sponsored](https://popup.taboola.com/en/?template=colorbox&utm_source=thestatesman&utm_medium=referral&utm_content=thumbs-feed-01-a:Below%20Article%20Thumbnails%20|%20Card%204:) Click Here](https://wtr.vitalgethealth.com/ejoogs50ui \"Medical Mystery Solved: Dementia and Memory Loss Has Been Linked To This Common Thing.\")\\n\\nUndo\\n\\n[](https://www.freshinfospot.com/en/46513)[Husband Leaves Sick Wife For His Mistress. When He Returns For Her Inheritance, She Does This freshinfospot.com | [Sponsored](https://popup.taboola.com/en/?template=colorbox&utm_source=thestatesman&utm_medium=referral&utm_content=thumbs-feed-01-a:Below%20Article%20Thumbnails%20|%20Card%204:)[Sponsored](https://popup.taboola.com/en/?template=colorbox&utm_source=thestatesman&utm_medium=referral&utm_content=thumbs-feed-01-a:Below%20Article%20Thumbnails%20|%20Card%204:) Click Here](https://www.freshinfospot.com/en/46513 \"Husband Leaves Sick Wife For His Mistress. When He Returns For Her Inheritance, She Does This\")\\n\\nUndo\\n\\nAdvertisement\\n\\n#### thestatesman.com\\n\\nPEOPLE\\'S PARLIAMENT, ALWAYS IN SESSION\\n\\n**Address**\\n\\n The Statesman Net Private Limited\\n\\n Statesman House, First Floor 148 Barakhamba Road\\n\\n New Delhi – 110001\\n\\n (+91) (011) 41605781, 41605958\\n\\n*   **Follow us:**\\n*   [](https://www.facebook.com/thestatesman1875/?fref=ts)\\n*   [](https://twitter.com/TheStatesmanLtd)\\n*   [](https://youtube.com/@thestatesmantalk?si=ih1rXBQy1Ifs0lSR)\\n\\n##### News\\n\\n*   [India](https://www.thestatesman.com/india)\\n*   [World](https://www.thestatesman.com/world)\\n*   [Technology](https://www.thestatesman.com/technology)\\n*   [Business](https://www.thestatesman.com/business)\\n*   [Sports](https://www.thestatesman.com/sports)\\n\\n##### Lifestyle\\n\\n*   [Lifestyle](https://www.thestatesman.com/lifestyle)\\n*   [Health](https://www.thestatesman.com/lifestyle/health)\\n*   [Fashion](https://www.thestatesman.com/lifestyle/fashion)\\n\\n##### Entertainment\\n\\n*   [Entertainment](https://www.thestatesman.com/entertainment)\\n*   [Bollywood](https://www.thestatesman.com/entertainment/bollywood)\\n*   [Hollywood](https://www.thestatesman.com/entertainment/hollywood)\\n*   [Bengali Cinema](https://www.thestatesman.com/entertainment/bengali_cinema)\\n*   [Southern Cinema](https://www.thestatesman.com/entertainment/southern_cinema)\\n\\n© 2025, thestatesman.com | All rights reserved\\n\\n*   [Advertise with us](https://www.thestatesman.com/advertise-with-us)\\n*   [About](https://www.thestatesman.com/about-us)\\n*   [Privacy Policy](https://www.thestatesman.com/privacy-policy)\\n*   [Contact](https://www.thestatesman.com/contact-us)\\n\\n[Top](https://www.thestatesman.com/india/pm-to-inaugurate-chenab-bridge-on-on-june-6-kashmir-rail-link-to-become-a-reality-1503440820.html#top)\\n\\n[](javascript:;)[](javascript:;)\\n\\n[MENU Menu](https://www.thestatesman.com/india/pm-to-inaugurate-chenab-bridge-on-on-june-6-kashmir-rail-link-to-become-a-reality-1503440820.html#)\\n\\n*   [Home](https://www.thestatesman.com/)\\n*   [India](https://www.thestatesman.com/india)\\n*   [World](https://www.thestatesman.com/world)\\n*   [Business](https://www.thestatesman.com/business)\\n*   [Sports](https://www.thestatesman.com/sports)\\n*   [Entertainment](https://www.thestatesman.com/entertainment)\\n*   [Opinion](https://www.thestatesman.com/opinion)\\n*   [Law](https://www.thestatesman.com/law)\\n*   [Lifestyle](https://www.thestatesman.com/lifestyle)\\n*   [Dainik Statesman](https://www.dainikstatesmannews.com/)\\n*   [More +](https://www.thestatesman.com/india/pm-to-inaugurate-chenab-bridge-on-on-june-6-kashmir-rail-link-to-become-a-reality-1503440820.html#)\\n    *   [Technology](https://www.thestatesman.com/technology)\\n    *   [Exclusive Interviews](https://www.thestatesman.com/exclusive-interviews)\\n    *   [Features](https://www.thestatesman.com/features)\\n    *   [Photo](https://www.thestatesman.com/photo)\\n    *   [Videos](https://www.thestatesman.com/videogallery)\\n    *   [Cities](https://www.thestatesman.com/cities)\\n    *   [Travel](https://www.thestatesman.com/travel)\\n    *   [Education](https://www.thestatesman.com/education)\\n    *   [Law](https://www.thestatesman.com/supplements/law)\\n\\n*   [](https://www.thestatesman.com/india/pm-to-inaugurate-chenab-bridge-on-on-june-6-kashmir-rail-link-to-become-a-reality-1503440820.html#)[Epaper](https://epaper.thestatesman.com/)+\\n    *   [Bhubaneswar](https://epaper.thestatesman.com/t/31575/?s=%20Bhubaneswar%20-The%20Statesman)\\n    *   [Delhi](https://epaper.thestatesman.com/t/9207/?s=Delhi%20-%20The%20Statesman)\\n    *   [Kolkata](https://epaper.thestatesman.com/t/9247/?s=Kolkata%20-%20The%20Statesman)\\n    *   [Siliguri](https://epaper.thestatesman.com/t/9248/?s=Siliguri%20-%20The%20Statesman)\\n    *   [Dainik Statesman](https://epaper.thestatesman.com/t/9256/?s=Dainik-Statesman)\\n\\n*   [](https://www.facebook.com/thestatesman1875/?fref=ts)\\n*   [](https://twitter.com/TheStatesmanLtd)\\n*   [](https://youtube.com/@thestatesmantalk?si=ih1rXBQy1Ifs0lSR)\\n\\n[![Image 32: Logo](https://www.thestatesman.com/wp-content/themes/statesmantheme/images/the-statesman-logo-new.png)](https://www.thestatesman.com/)\\n===================================================================================================================================================\\n\\n[![Image 34: Logo](blob:http://localhost/e36d49e9fc4c09187660bde9c03f3e1c)](https://www.thestatesman.com/)\\n==========================================================================================================\\n\\nTuesday, 3 June, 2025\\n\\nKeep on reading\\n\\n[](https://www.thestatesman.com/entertainment/tv-actress-sejal-sharma-commits-suicide-1502849223.html)[TV actress Sejal Sharma commits suicide TV actress Sejal Sharma committed suicide on Friday. She was known for her role of Simmy Khosla in the show Dil Toh Happy Hai Ji.The Statesman](https://www.thestatesman.com/entertainment/tv-actress-sejal-sharma-commits-suicide-1502849223.html \"TV actress Sejal Sharma commits suicide\")\\n\\nUndo\\n\\n[](https://www.thestatesman.com/bengal/msc-girl-found-dead-in-toilet-1503440647.html?amp_gsa=1&amp_js_v=a9&usqp=mq331AQIUAKwASCAAgM=)[MSc girl found dead in toilet - The Statesman A girl student was found hanging from the window grill of the toilet of a rented accommodation in Burdwan town this afternoon she was staying in.The Statesman](https://www.thestatesman.com/bengal/msc-girl-found-dead-in-toilet-1503440647.html?amp_gsa=1&amp_js_v=a9&usqp=mq331AQIUAKwASCAAgM= \"MSc girl found dead in toilet - The Statesman\")\\n\\nUndo\\n\\n[](https://www.thestatesman.com/india/swati-maliwal-says-she-was-sexually-abused-by-her-father-1503161556.html)[Swati Maliwal says she was sexually abused by her father The DCW chief said she drew courage from the abuse she received to fight for women and stand up for all those who have gone through such trauma.The Statesman](https://www.thestatesman.com/india/swati-maliwal-says-she-was-sexually-abused-by-her-father-1503161556.html \"Swati Maliwal says she was sexually abused by her father\")\\n\\nUndo\\n\\n[](https://www.thestatesman.com/india/how-did-son-of-muslim-father-christian-mother-become-brahmin-hegdes-latest-barb-on-rahul-1502738071.html)[How did son of Muslim father, Christian mother become Brahmin; Hegde’s latest barb on Rahul Earlier this year, Hegde had termed Gandhi as a “hybrid specimen” born to a Muslim and a Christian.The Statesman](https://www.thestatesman.com/india/how-did-son-of-muslim-father-christian-mother-become-brahmin-hegdes-latest-barb-on-rahul-1502738071.html \"How did son of Muslim father, Christian mother become Brahmin; Hegde’s latest barb on Rahul\")\\n\\nUndo\\n\\n[](https://www.thestatesman.com/cities/bjp-goons-killed-kasim-dragged-him-like-a-dead-animal-brother-1502652194.html)[BJP goons killed Kasim, dragged him like a dead animal: Brother Kasim was allegedly beaten to death by a mob over alleged rumours of cow slaughter at Bajhera Khurd village in Hapur.The Statesman](https://www.thestatesman.com/cities/bjp-goons-killed-kasim-dragged-him-like-a-dead-animal-brother-1502652194.html \"BJP goons killed Kasim, dragged him like a dead animal: Brother\")\\n\\nUndo\\n\\n[](https://ranksearchesnow.com/12523)[Nissan Is Back & Better Than Ever With Its Incredible New 2025 Lineup Rank Searches Now | Auto | [Sponsored](https://popup.taboola.com/en/?template=colorbox&utm_source=thestatesman&utm_medium=referral&utm_content=thumbs-feed-01-y-delta:Explore%20More%20|%20Card%202:)[Sponsored](https://popup.taboola.com/en/?template=colorbox&utm_source=thestatesman&utm_medium=referral&utm_content=thumbs-feed-01-y-delta:Explore%20More%20|%20Card%202:) Learn More](https://ranksearchesnow.com/12523 \"Nissan Is Back & Better Than Ever With Its Incredible New 2025 Lineup\")\\n\\nUndo\\n\\n[](https://track.consistent-track.com/10e22116-c26b-4384-8718-02f1857c8546)[Americans Are Freaking Out Over This All-New Hyundai Tucson (Take a Look)Smartfinancetips | [Sponsored](https://popup.taboola.com/en/?template=colorbox&utm_source=thestatesman&utm_medium=referral&utm_content=thumbs-feed-01-y-delta:Explore%20More%20|%20Card%202:)[Sponsored](https://popup.taboola.com/en/?template=colorbox&utm_source=thestatesman&utm_medium=referral&utm_content=thumbs-feed-01-y-delta:Explore%20More%20|%20Card%202:) Learn More](https://track.consistent-track.com/10e22116-c26b-4384-8718-02f1857c8546 \"Americans Are Freaking Out Over This All-New Hyundai Tucson (Take a Look)\")\\n\\nUndo\\n\\n[](https://www.thestatesman.com/cities/pm-modi-not-unmarried-married-ram-jashodaben-1502651498.html)[PM Modi is not unmarried, he married me, he is Ram for me: Jashodaben Jashodaben added that the conduct of Anandiben has tarnished the image of PM Modi. She likened the prime minister to Lord Rama.The Statesman](https://www.thestatesman.com/cities/pm-modi-not-unmarried-married-ram-jashodaben-1502651498.html \"PM Modi is not unmarried, he married me, he is Ram for me: Jashodaben\")\\n\\nUndo\\n\\n[](https://www.thestatesman.com/cities/up-ips-officer-dies-four-days-after-allegedly-consuming-poison-1502682804.html)[UP IPS officer dies four days after allegedly consuming poison Surendra Kumar Das was a 2014-batch IPS officer posted in Kanpur as the Superintendent of Police City (East).The Statesman](https://www.thestatesman.com/cities/up-ips-officer-dies-four-days-after-allegedly-consuming-poison-1502682804.html \"UP IPS officer dies four days after allegedly consuming poison\")\\n\\nUndo\\n\\n[](https://www.thestatesman.com/india/former-dsp-davinder-singh-who-was-arrested-for-transporting-terrorists-in-jammu-brought-to-delhi-1502865725.html)[Former DSP Davinder Singh who was arrested for transporting terrorists in Jammu brought to Delhi Kashmir DSP Davinder Singh who was arrested for transporting terrorists in January has been brought to Delhi and will be produced in a Delhi court.The Statesman](https://www.thestatesman.com/india/former-dsp-davinder-singh-who-was-arrested-for-transporting-terrorists-in-jammu-brought-to-delhi-1502865725.html \"Former DSP Davinder Singh who was arrested for transporting terrorists in Jammu brought to Delhi\")\\n\\nUndo\\n\\n[](https://www.thestatesman.com/supplements/north/the-zou-affair-1502948619.html)[The Zou affair Declared by chief minister N Biren Singh after he was elected, the ‘War on Drugs’ in Manipur seems to have been abandoned.The Statesman](https://www.thestatesman.com/supplements/north/the-zou-affair-1502948619.html \"The Zou affair\")\\n\\nUndo\\n\\n[](https://www.thestatesman.com/uttar-pradesh/former-minister-booked-marry-6th-time-1502989211.html)[Former UP minister booked as he was to marry for 6th time Chaudhary Bashir was a minister in the Mayawati government but later switched over to the Samajwadi Party. However, he left SP later.The Statesman](https://www.thestatesman.com/uttar-pradesh/former-minister-booked-marry-6th-time-1502989211.html \"Former UP minister booked as he was to marry for 6th time\")\\n\\nUndo\\n\\n[](https://track.bloghealthnet.com/ztvplkv6d0)[Cinnamon: The Greatest Enemy Of Blood Sugar (See How To Use It)See this amazing trick rigth now!bloghealthnet | [Sponsored](https://popup.taboola.com/en/?template=colorbox&utm_source=thestatesman&utm_medium=referral&utm_content=thumbs-feed-01-y-delta:Explore%20More%20|%20Card%205:)[Sponsored](https://popup.taboola.com/en/?template=colorbox&utm_source=thestatesman&utm_medium=referral&utm_content=thumbs-feed-01-y-delta:Explore%20More%20|%20Card%205:) Learn More](https://track.bloghealthnet.com/ztvplkv6d0 \"Cinnamon: The Greatest Enemy Of Blood Sugar (See How To Use It)\")\\n\\nUndo\\n\\n[](https://www.universalinfonet.com/en/46514)[Family Thought They Adopted A \"Dog.\" When The Vet Sees It, He Says, \"Oh My God\"universalinfonet.com | [Sponsored](https://popup.taboola.com/en/?template=colorbox&utm_source=thestatesman&utm_medium=referral&utm_content=thumbs-feed-01-y-delta:Explore%20More%20|%20Card%205:)[Sponsored](https://popup.taboola.com/en/?template=colorbox&utm_source=thestatesman&utm_medium=referral&utm_content=thumbs-feed-01-y-delta:Explore%20More%20|%20Card%205:)](https://www.universalinfonet.com/en/46514 \"Family Thought They Adopted A \\\\\"Dog.\\\\\" When The Vet Sees It, He Says, \\\\\"Oh My God\\\\\"\")\\n\\nUndo\\n\\n[](https://www.thestatesman.com/cities/army-officer-accused-raping-friends-wife-arrested-1502940920.html)[Army officer accused of raping friend’s wife arrested The victim\\'s husband, a civilian, lodged an FIR against the Army officer at the Cantonment police station.The Statesman](https://www.thestatesman.com/cities/army-officer-accused-raping-friends-wife-arrested-1502940920.html \"Army officer accused of raping friend’s wife arrested\")\\n\\nUndo\\n\\n[](https://www.thestatesman.com/bengal/dilip-ghosh-admits-his-growing-distance-with-bengal-leadership-of-bjp-1503428075.html)[Dilip Ghosh admits his \\'growing distance\\' with Bengal leadership of BJP - The Statesman Ghosh also spoke about his absence from the official programmes of the state unit of the BJP.The Statesman](https://www.thestatesman.com/bengal/dilip-ghosh-admits-his-growing-distance-with-bengal-leadership-of-bjp-1503428075.html \"Dilip Ghosh admits his \\'growing distance\\' with Bengal leadership of BJP - The Statesman\")\\n\\nUndo\\n\\n[Sponsored](https://popup.taboola.com/en/?template=colorbox&utm_source=thestatesman&utm_medium=referral&utm_content=thumbnails-vignette-la-delta:taboola-vignette:)[Sponsored](https://popup.taboola.com/en/?template=colorbox&utm_source=thestatesman&utm_medium=referral&utm_content=thumbnails-vignette-la-delta:taboola-vignette:)\\n\\n[Promoted Links](https://popup.taboola.com/en/?template=colorbox&utm_source=thestatesman&utm_medium=referral&utm_content=thumbnails-vignette-la-delta:taboola-vignette:)[Promoted Links](https://popup.taboola.com/en/?template=colorbox&utm_source=thestatesman&utm_medium=referral&utm_content=thumbnails-vignette-la-delta:taboola-vignette:)\\n\\n[](https://ranksearchesnow.com/12523)[Rank Searches Now | Auto Nissan Is Back & Better Than Ever With Its Incredible New 2025 Lineup Learn More](https://ranksearchesnow.com/12523 \"Nissan Is Back & Better Than Ever With Its Incredible New 2025 Lineup\")\\n'}, {'title': 'PM Modi Likely To Inaugurate Kashmir Rail Link In June, Flag ... - News18', 'url': 'https://www.news18.com/india/pm-modi-likely-to-inaugurate-kashmir-rail-link-in-june-flag-off-vande-bharat-from-katra-ws-dl-9363680.html', 'content': 'Prime Minister Narendra Modi is expected to inaugurate the first-ever rail link connecting the Kashmir Valley with the rest of the country by the end of the first week of June. The railway authorities are making the final preparations for this significant event. The Prime Minister will flag off the', 'score': 0.77364457}]\u001b[0m\u001b[32;1m\u001b[1;3m\n",
      "Invoking: `tavily_search_results_json` with `{'query': 'Reuters India June 3 2025 top headlines India'}`\n",
      "\n",
      "\n",
      "\u001b[0m\u001b[36;1m\u001b[1;3m[{'title': 'Top 10 News of India - June 3, 2025 | Morning Headlines | Politics ...', 'url': 'https://www.youtube.com/watch?v=JGB106b_lAo', 'content': '# Top 10 News of India – June 3, 2025 | Morning Headlines | Politics, Business, JEE Advanced,IPL Final\\n\\nLife Now \\n0 likes\\n3 views\\n3 Jun 2025\\nStay updated with the Top 10 latest news from India as of June 3, 2025 – 8:00 AM. This bulletin includes major updates from politics, economy, education, sports, and global affairs. From Assam floods to IPL 2025 final and JEE Advanced results, get your morning briefing now. [...] #IndiaNews #Top10News #June3News #MorningHeadlines #JEEAdvanced2025 #IPLFinal #AssamFloods #IndianPolitics #ModiNews #ProIndia\\n\\n📲 Subscribe to our channel for daily news updates every morning at 8 AM.\\nNo fluff, no delay  just pure facts, fast and first.\\n\\n🗞 Headlines covered today:\\n\\nModi-Paraguay bilateral talks\\n\\nUS-India ties praised by Usha Vance\\n\\nDelhi Police theft case\\n\\nAssam floods worsen\\n\\nSikkim landslide tragedy\\n\\nIPL 2025 Final showdown\\n\\nAviation investment opportunity [...] SS Innovations hits Nasdaq\\n\\nJEE Advanced 2025 topper\\n\\nPakistan speaker’s terrorism link controversy\\n0 comments', 'score': 0.8747745, 'raw_content': '# Top 10 News of India – June 3, 2025 | Morning Headlines | Politics, Business, JEE Advanced,IPL Final\\n\\nLife Now \\n0 likes\\n3 views\\n3 Jun 2025\\nStay updated with the Top 10 latest news from India as of June 3, 2025 – 8:00 AM. This bulletin includes major updates from politics, economy, education, sports, and global affairs. From Assam floods to IPL 2025 final and JEE Advanced results, get your morning briefing now.\\n\\n#IndiaNews #Top10News #June3News #MorningHeadlines #JEEAdvanced2025 #IPLFinal #AssamFloods #IndianPolitics #ModiNews #ProIndia\\n\\n📲 Subscribe to our channel for daily news updates every morning at 8 AM.\\nNo fluff, no delay  just pure facts, fast and first.\\n\\n🗞 Headlines covered today:\\n\\nModi-Paraguay bilateral talks\\n\\nUS-India ties praised by Usha Vance\\n\\nDelhi Police theft case\\n\\nAssam floods worsen\\n\\nSikkim landslide tragedy\\n\\nIPL 2025 Final showdown\\n\\nAviation investment opportunity\\n\\nSS Innovations hits Nasdaq\\n\\nJEE Advanced 2025 topper\\n\\nPakistan speaker’s terrorism link controversy\\n0 comments'}, {'title': 'Daily News Update from Sarkaritel : June 03, 2025', 'url': 'https://www.sarkaritel.com/media-update-june-03-2025/', 'content': \"India's coal production rises 3.4 per cent to cross 86 million tonnes in May June 3, 2025; Piyush Goyal meets top global CEOs, discusses India's potential in EV, RE sectors June 2, 2025; India to create 7.29 million green jobs by FY28, 35 million by 2047: Report June 2, 2025; IIT Madras study shows viruses follow seasonal and yearly cycles\", 'score': 0.82425016}]\u001b[0m\u001b[32;1m\u001b[1;3mHere are some of the top headlines from India as of June 3, 2025:\n",
      "\n",
      "1. Kashmir Rail Link to Open  \n",
      "  – Prime Minister Narendra Modi will inaugurate the “mighty” Chenab Bridge (the world’s highest railway bridge) on June 6 and flag off the first Vande Bharat service on the Katra–Baramulla line, finally linking Kashmir by rail to the rest of the country.\n",
      "\n",
      "2. Assam Floods Worsen  \n",
      "  – Heavy monsoon rains have displaced over 5.3 lakh people across 22 districts. The death toll stands at 11. Chief Minister Himanta Biswa Sarma toured worst-hit areas; PM Modi has assured central relief aid.\n",
      "\n",
      "3. Adani Group under U.S. Scrutiny  \n",
      "  – U.S. authorities are probing alleged links between the Adani conglomerate and sanctioned Iranian LPG trade. Adani has labelled the inquiry “baseless and mischievous.”\n",
      "\n",
      "4. India’s Coal Output Hits 86 Mt in May  \n",
      "  – Coal production rose 3.4% year-on-year to cross 86 million tonnes, reflecting strong domestic demand and ramped-up mining operations.\n",
      "\n",
      "5. Green Jobs on the Rise  \n",
      "  – A new report projects India will create 7.29 million “green” jobs by FY 2027–28 and 35 million by 2047, driven by renewable energy, EV manufacturing and sustainable infrastructure.\n",
      "\n",
      "6. Piyush Goyal Meets Global CEOs  \n",
      "  – Commerce Minister Piyush Goyal held talks with top international business leaders in Mumbai, highlighting India’s investment potential in electric vehicles, renewables and semiconductors.\n",
      "\n",
      "7. US Second Lady Praises India  \n",
      "  – U.S. Second Lady Usha Vance, on a visit to New Delhi, described her audience with PM Modi as a “trip of a lifetime” and praised growing India-US ties.\n",
      "\n",
      "8. Other Noteworthy Items  \n",
      "  – JEE Advanced 2025 results out; toppers to be celebrated.  \n",
      "  – IPL 2025 Final set for June, with Mumbai Indians taking on Chennai Super Kings.  \n",
      "\n",
      "Feel free to ask if you’d like more detail on any of these stories!\u001b[0m\n",
      "\n",
      "\u001b[1m> Finished chain.\u001b[0m\n"
     ]
    },
    {
     "data": {
      "text/plain": [
       "{'input': 'what is the latest news in the india?',\n",
       " 'output': 'Here are some of the top headlines from India as of June 3, 2025:\\n\\n1. Kashmir Rail Link to Open  \\n  – Prime Minister Narendra Modi will inaugurate the “mighty” Chenab Bridge (the world’s highest railway bridge) on June 6 and flag off the first Vande Bharat service on the Katra–Baramulla line, finally linking Kashmir by rail to the rest of the country.\\n\\n2. Assam Floods Worsen  \\n  – Heavy monsoon rains have displaced over 5.3 lakh people across 22 districts. The death toll stands at 11. Chief Minister Himanta Biswa Sarma toured worst-hit areas; PM Modi has assured central relief aid.\\n\\n3. Adani Group under U.S. Scrutiny  \\n  – U.S. authorities are probing alleged links between the Adani conglomerate and sanctioned Iranian LPG trade. Adani has labelled the inquiry “baseless and mischievous.”\\n\\n4. India’s Coal Output Hits 86 Mt in May  \\n  – Coal production rose 3.4% year-on-year to cross 86 million tonnes, reflecting strong domestic demand and ramped-up mining operations.\\n\\n5. Green Jobs on the Rise  \\n  – A new report projects India will create 7.29 million “green” jobs by FY\\u20092027–28 and 35 million by 2047, driven by renewable energy, EV manufacturing and sustainable infrastructure.\\n\\n6. Piyush Goyal Meets Global CEOs  \\n  – Commerce Minister Piyush Goyal held talks with top international business leaders in Mumbai, highlighting India’s investment potential in electric vehicles, renewables and semiconductors.\\n\\n7. US Second Lady Praises India  \\n  – U.S. Second Lady Usha Vance, on a visit to New Delhi, described her audience with PM Modi as a “trip of a lifetime” and praised growing India-US ties.\\n\\n8. Other Noteworthy Items  \\n  – JEE Advanced 2025 results out; toppers to be celebrated.  \\n  – IPL 2025 Final set for June, with Mumbai Indians taking on Chennai Super Kings.  \\n\\nFeel free to ask if you’d like more detail on any of these stories!'}"
      ]
     },
     "execution_count": 34,
     "metadata": {},
     "output_type": "execute_result"
    }
   ],
   "source": [
    "agent_executor.invoke({\"input\":\"what is the latest news in the india?\"})"
   ]
  }
 ],
 "metadata": {
  "kernelspec": {
   "display_name": ".venv",
   "language": "python",
   "name": "python3"
  },
  "language_info": {
   "codemirror_mode": {
    "name": "ipython",
    "version": 3
   },
   "file_extension": ".py",
   "mimetype": "text/x-python",
   "name": "python",
   "nbconvert_exporter": "python",
   "pygments_lexer": "ipython3",
   "version": "3.11.5"
  }
 },
 "nbformat": 4,
 "nbformat_minor": 5
}
